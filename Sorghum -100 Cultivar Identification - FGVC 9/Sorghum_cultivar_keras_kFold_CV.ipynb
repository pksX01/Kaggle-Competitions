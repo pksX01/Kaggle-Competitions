{
 "cells": [
  {
   "cell_type": "code",
   "execution_count": 1,
   "metadata": {},
   "outputs": [],
   "source": [
    "%load_ext tensorboard"
   ]
  },
  {
   "cell_type": "code",
   "execution_count": 2,
   "metadata": {},
   "outputs": [],
   "source": [
    "import pandas as pd\n",
    "import tensorflow as tf\n",
    "from tensorflow import keras\n",
    "from pathlib import Path\n",
    "import os\n",
    "import numpy as np\n",
    "from keras.preprocessing.image import ImageDataGenerator\n",
    "from keras.layers import Dense, GlobalAveragePooling2D, Input\n",
    "from keras.callbacks import EarlyStopping, ModelCheckpoint, ReduceLROnPlateau\n",
    "from keras.applications import efficientnet_v2\n",
    "from sklearn.preprocessing import LabelEncoder\n",
    "from sklearn.model_selection import StratifiedKFold\n",
    "import datetime"
   ]
  },
  {
   "cell_type": "code",
   "execution_count": 3,
   "metadata": {},
   "outputs": [
    {
     "name": "stdout",
     "output_type": "stream",
     "text": [
      "Num GPUs Available:  1\n"
     ]
    }
   ],
   "source": [
    "print(\"Num GPUs Available: \", len(tf.config.list_physical_devices('GPU')))"
   ]
  },
  {
   "cell_type": "code",
   "execution_count": 4,
   "metadata": {},
   "outputs": [
    {
     "data": {
      "text/plain": [
       "'2.8.0'"
      ]
     },
     "execution_count": 4,
     "metadata": {},
     "output_type": "execute_result"
    }
   ],
   "source": [
    "tf.__version__"
   ]
  },
  {
   "cell_type": "code",
   "execution_count": 5,
   "metadata": {},
   "outputs": [
    {
     "data": {
      "text/plain": [
       "[PhysicalDevice(name='/physical_device:GPU:0', device_type='GPU')]"
      ]
     },
     "execution_count": 5,
     "metadata": {},
     "output_type": "execute_result"
    }
   ],
   "source": [
    "tf.config.list_physical_devices('GPU')"
   ]
  },
  {
   "cell_type": "code",
   "execution_count": 6,
   "metadata": {},
   "outputs": [],
   "source": [
    "IMG_SIZE = 256\n",
    "BATCH_SIZE = 32\n",
    "EPOCHS = 30\n",
    "N_SPLITS = 5\n",
    "BASE_PATH = Path('/Users/rudra/Tech/ML_Work/Sorghum_Kaggle_Competition/')\n",
    "SAVED_DIR = BASE_PATH/'kFold_models'\n",
    "LOG_DIR = \"logs/fit/\" + datetime.datetime.now().strftime(\"%Y%m%d-%H%M%S\")\n",
    "DATA_PATH  = Path('/Users/rudra/Tech/ML_Work/Datasets/archive')"
   ]
  },
  {
   "cell_type": "code",
   "execution_count": 7,
   "metadata": {},
   "outputs": [],
   "source": [
    "!rm -rf ./logs/"
   ]
  },
  {
   "cell_type": "code",
   "execution_count": 8,
   "metadata": {},
   "outputs": [
    {
     "data": {
      "text/plain": [
       "PosixPath('/Users/rudra/Tech/ML_Work/Datasets/archive')"
      ]
     },
     "execution_count": 8,
     "metadata": {},
     "output_type": "execute_result"
    }
   ],
   "source": [
    "DATA_PATH"
   ]
  },
  {
   "cell_type": "code",
   "execution_count": 9,
   "metadata": {},
   "outputs": [],
   "source": [
    "train_df = pd.read_csv(DATA_PATH/'train_cultivar_mapping.csv')"
   ]
  },
  {
   "cell_type": "code",
   "execution_count": 10,
   "metadata": {},
   "outputs": [
    {
     "data": {
      "text/html": [
       "<div>\n",
       "<style scoped>\n",
       "    .dataframe tbody tr th:only-of-type {\n",
       "        vertical-align: middle;\n",
       "    }\n",
       "\n",
       "    .dataframe tbody tr th {\n",
       "        vertical-align: top;\n",
       "    }\n",
       "\n",
       "    .dataframe thead th {\n",
       "        text-align: right;\n",
       "    }\n",
       "</style>\n",
       "<table border=\"1\" class=\"dataframe\">\n",
       "  <thead>\n",
       "    <tr style=\"text-align: right;\">\n",
       "      <th></th>\n",
       "      <th>image</th>\n",
       "      <th>cultivar</th>\n",
       "      <th>file_path</th>\n",
       "      <th>is_exist</th>\n",
       "    </tr>\n",
       "  </thead>\n",
       "  <tbody>\n",
       "    <tr>\n",
       "      <th>0</th>\n",
       "      <td>2017-06-16__12-24-20-930.jpeg</td>\n",
       "      <td>PI_257599</td>\n",
       "      <td>../input/sorghum-id-fgvc-9/train_images/2017-0...</td>\n",
       "      <td>True</td>\n",
       "    </tr>\n",
       "    <tr>\n",
       "      <th>1</th>\n",
       "      <td>2017-06-02__16-48-57-866.jpeg</td>\n",
       "      <td>PI_154987</td>\n",
       "      <td>../input/sorghum-id-fgvc-9/train_images/2017-0...</td>\n",
       "      <td>True</td>\n",
       "    </tr>\n",
       "    <tr>\n",
       "      <th>2</th>\n",
       "      <td>2017-06-12__13-18-07-707.jpeg</td>\n",
       "      <td>PI_92270</td>\n",
       "      <td>../input/sorghum-id-fgvc-9/train_images/2017-0...</td>\n",
       "      <td>True</td>\n",
       "    </tr>\n",
       "    <tr>\n",
       "      <th>3</th>\n",
       "      <td>2017-06-22__13-18-06-841.jpeg</td>\n",
       "      <td>PI_152651</td>\n",
       "      <td>../input/sorghum-id-fgvc-9/train_images/2017-0...</td>\n",
       "      <td>True</td>\n",
       "    </tr>\n",
       "    <tr>\n",
       "      <th>4</th>\n",
       "      <td>2017-06-26__12-56-48-642.jpeg</td>\n",
       "      <td>PI_176766</td>\n",
       "      <td>../input/sorghum-id-fgvc-9/train_images/2017-0...</td>\n",
       "      <td>True</td>\n",
       "    </tr>\n",
       "  </tbody>\n",
       "</table>\n",
       "</div>"
      ],
      "text/plain": [
       "                           image   cultivar  \\\n",
       "0  2017-06-16__12-24-20-930.jpeg  PI_257599   \n",
       "1  2017-06-02__16-48-57-866.jpeg  PI_154987   \n",
       "2  2017-06-12__13-18-07-707.jpeg   PI_92270   \n",
       "3  2017-06-22__13-18-06-841.jpeg  PI_152651   \n",
       "4  2017-06-26__12-56-48-642.jpeg  PI_176766   \n",
       "\n",
       "                                           file_path  is_exist  \n",
       "0  ../input/sorghum-id-fgvc-9/train_images/2017-0...      True  \n",
       "1  ../input/sorghum-id-fgvc-9/train_images/2017-0...      True  \n",
       "2  ../input/sorghum-id-fgvc-9/train_images/2017-0...      True  \n",
       "3  ../input/sorghum-id-fgvc-9/train_images/2017-0...      True  \n",
       "4  ../input/sorghum-id-fgvc-9/train_images/2017-0...      True  "
      ]
     },
     "execution_count": 10,
     "metadata": {},
     "output_type": "execute_result"
    }
   ],
   "source": [
    "train_df.head()"
   ]
  },
  {
   "cell_type": "code",
   "execution_count": 11,
   "metadata": {},
   "outputs": [
    {
     "data": {
      "text/plain": [
       "array([ True])"
      ]
     },
     "execution_count": 11,
     "metadata": {},
     "output_type": "execute_result"
    }
   ],
   "source": [
    "train_df.is_exist.unique()"
   ]
  },
  {
   "cell_type": "code",
   "execution_count": 12,
   "metadata": {},
   "outputs": [],
   "source": [
    "le = LabelEncoder()\n",
    "le.fit(train_df.cultivar)\n",
    "train_df['target'] = le.transform(train_df.cultivar)"
   ]
  },
  {
   "cell_type": "code",
   "execution_count": 13,
   "metadata": {},
   "outputs": [
    {
     "data": {
      "text/html": [
       "<div>\n",
       "<style scoped>\n",
       "    .dataframe tbody tr th:only-of-type {\n",
       "        vertical-align: middle;\n",
       "    }\n",
       "\n",
       "    .dataframe tbody tr th {\n",
       "        vertical-align: top;\n",
       "    }\n",
       "\n",
       "    .dataframe thead th {\n",
       "        text-align: right;\n",
       "    }\n",
       "</style>\n",
       "<table border=\"1\" class=\"dataframe\">\n",
       "  <thead>\n",
       "    <tr style=\"text-align: right;\">\n",
       "      <th></th>\n",
       "      <th>image</th>\n",
       "      <th>cultivar</th>\n",
       "      <th>file_path</th>\n",
       "      <th>is_exist</th>\n",
       "      <th>target</th>\n",
       "    </tr>\n",
       "  </thead>\n",
       "  <tbody>\n",
       "    <tr>\n",
       "      <th>0</th>\n",
       "      <td>2017-06-16__12-24-20-930.jpeg</td>\n",
       "      <td>PI_257599</td>\n",
       "      <td>../input/sorghum-id-fgvc-9/train_images/2017-0...</td>\n",
       "      <td>True</td>\n",
       "      <td>73</td>\n",
       "    </tr>\n",
       "    <tr>\n",
       "      <th>1</th>\n",
       "      <td>2017-06-02__16-48-57-866.jpeg</td>\n",
       "      <td>PI_154987</td>\n",
       "      <td>../input/sorghum-id-fgvc-9/train_images/2017-0...</td>\n",
       "      <td>True</td>\n",
       "      <td>29</td>\n",
       "    </tr>\n",
       "    <tr>\n",
       "      <th>2</th>\n",
       "      <td>2017-06-12__13-18-07-707.jpeg</td>\n",
       "      <td>PI_92270</td>\n",
       "      <td>../input/sorghum-id-fgvc-9/train_images/2017-0...</td>\n",
       "      <td>True</td>\n",
       "      <td>99</td>\n",
       "    </tr>\n",
       "    <tr>\n",
       "      <th>3</th>\n",
       "      <td>2017-06-22__13-18-06-841.jpeg</td>\n",
       "      <td>PI_152651</td>\n",
       "      <td>../input/sorghum-id-fgvc-9/train_images/2017-0...</td>\n",
       "      <td>True</td>\n",
       "      <td>6</td>\n",
       "    </tr>\n",
       "    <tr>\n",
       "      <th>4</th>\n",
       "      <td>2017-06-26__12-56-48-642.jpeg</td>\n",
       "      <td>PI_176766</td>\n",
       "      <td>../input/sorghum-id-fgvc-9/train_images/2017-0...</td>\n",
       "      <td>True</td>\n",
       "      <td>50</td>\n",
       "    </tr>\n",
       "  </tbody>\n",
       "</table>\n",
       "</div>"
      ],
      "text/plain": [
       "                           image   cultivar  \\\n",
       "0  2017-06-16__12-24-20-930.jpeg  PI_257599   \n",
       "1  2017-06-02__16-48-57-866.jpeg  PI_154987   \n",
       "2  2017-06-12__13-18-07-707.jpeg   PI_92270   \n",
       "3  2017-06-22__13-18-06-841.jpeg  PI_152651   \n",
       "4  2017-06-26__12-56-48-642.jpeg  PI_176766   \n",
       "\n",
       "                                           file_path  is_exist  target  \n",
       "0  ../input/sorghum-id-fgvc-9/train_images/2017-0...      True      73  \n",
       "1  ../input/sorghum-id-fgvc-9/train_images/2017-0...      True      29  \n",
       "2  ../input/sorghum-id-fgvc-9/train_images/2017-0...      True      99  \n",
       "3  ../input/sorghum-id-fgvc-9/train_images/2017-0...      True       6  \n",
       "4  ../input/sorghum-id-fgvc-9/train_images/2017-0...      True      50  "
      ]
     },
     "execution_count": 13,
     "metadata": {},
     "output_type": "execute_result"
    }
   ],
   "source": [
    "train_df.head()"
   ]
  },
  {
   "cell_type": "code",
   "execution_count": 14,
   "metadata": {},
   "outputs": [],
   "source": [
    "test_filenames = os.listdir(DATA_PATH/'test')\n",
    "test_df = pd.DataFrame({'filename' : test_filenames})"
   ]
  },
  {
   "cell_type": "code",
   "execution_count": 15,
   "metadata": {},
   "outputs": [],
   "source": [
    "def create_train_datagen():\n",
    "    train_datagen = ImageDataGenerator(\n",
    "        rotation_range=30,\n",
    "        width_shift_range=0.2,\n",
    "        height_shift_range=0.2,\n",
    "        zoom_range=0.15,\n",
    "        horizontal_flip=True,\n",
    "        fill_mode='nearest'\n",
    "    )\n",
    "    return train_datagen"
   ]
  },
  {
   "cell_type": "code",
   "execution_count": 16,
   "metadata": {},
   "outputs": [],
   "source": [
    "def get_data(datagen, df, dset):\n",
    "    if dset == 'train':\n",
    "        train_generator = datagen.flow_from_dataframe(\n",
    "            dataframe=df,\n",
    "            directory=DATA_PATH/'train',\n",
    "            x_col='image',\n",
    "            y_col='cultivar',\n",
    "            class_mode='sparse',\n",
    "            target_size=(IMG_SIZE, IMG_SIZE),\n",
    "            batch_size=BATCH_SIZE,\n",
    "            shuffle=True\n",
    "        )\n",
    "        \n",
    "        return train_generator\n",
    "\n",
    "    elif dset == 'val':\n",
    "        valid_generator = datagen.flow_from_dataframe(\n",
    "            dataframe=df,\n",
    "            directory=DATA_PATH/'train',\n",
    "            x_col='image',\n",
    "            y_col='cultivar',\n",
    "            class_mode='sparse',\n",
    "            target_size=(IMG_SIZE, IMG_SIZE),\n",
    "            batch_size=BATCH_SIZE,\n",
    "            shuffle=True\n",
    "        )\n",
    "\n",
    "        return valid_generator\n",
    "\n",
    "    elif dset == 'test':\n",
    "        test_generator = datagen.flow_from_dataframe(\n",
    "            dataframe = df,\n",
    "            directory = DATA_PATH/'test',\n",
    "            x_col = 'filename',\n",
    "            y_col = None,\n",
    "            class_mode = None,\n",
    "            target_size = (IMG_SIZE, IMG_SIZE),\n",
    "            batch_size = BATCH_SIZE,\n",
    "            shuffle = False\n",
    "        )\n",
    "        return test_generator\n",
    "\n",
    "    else:\n",
    "        print(\"Please pass the correct value for dset. It should be one of 'train', 'val' or 'test'.\")\n",
    "        return -1"
   ]
  },
  {
   "cell_type": "code",
   "execution_count": 17,
   "metadata": {},
   "outputs": [],
   "source": [
    "def createCallbacks(i):\n",
    "    early_stopping_callback = EarlyStopping(monitor='val_loss', verbose=1, patience=3)\n",
    "\n",
    "    checkpoint_callback = ModelCheckpoint(filepath=f'{SAVED_DIR}/sorghum_keras_model_fold_{i}.h5', \n",
    "                                            monitor='val_accuracy', verbose=1, save_freq='epoch', \n",
    "                                                        save_best_only=True, save_weights_only=True, period=1)\n",
    "\n",
    "    reduce_lr = ReduceLROnPlateau(monitor='val_loss', factor=0.2, mode=min, patience=3, min_lr=1e-5)\n",
    "\n",
    "    tensorboard_callback = tf.keras.callbacks.TensorBoard(log_dir=LOG_DIR, histogram_freq=1)\n",
    "\n",
    "    return [early_stopping_callback, checkpoint_callback, reduce_lr, tensorboard_callback]"
   ]
  },
  {
   "cell_type": "code",
   "execution_count": 18,
   "metadata": {},
   "outputs": [],
   "source": [
    "def create_model():\n",
    "    base_model = efficientnet_v2.EfficientNetV2B3(weights='imagenet', include_top=False, input_shape=(IMG_SIZE, IMG_SIZE, 3))\n",
    "    base_model.trainable = True\n",
    "    inputs = Input(shape=(IMG_SIZE, IMG_SIZE, 3))\n",
    "    output = base_model(inputs)\n",
    "    output = GlobalAveragePooling2D()(output)\n",
    "    output = Dense(100, activation='softmax')(output)\n",
    "\n",
    "    model = keras.Model(inputs, output)\n",
    "    return model"
   ]
  },
  {
   "cell_type": "code",
   "execution_count": 19,
   "metadata": {},
   "outputs": [
    {
     "name": "stdout",
     "output_type": "stream",
     "text": [
      "Found 17754 validated image filenames belonging to 100 classes.\n",
      "Found 4439 validated image filenames belonging to 100 classes.\n",
      "Metal device set to: Apple M1\n",
      "\n",
      "systemMemory: 8.00 GB\n",
      "maxCacheSize: 2.67 GB\n",
      "\n"
     ]
    },
    {
     "name": "stderr",
     "output_type": "stream",
     "text": [
      "2022-05-04 08:58:37.866861: I tensorflow/core/common_runtime/pluggable_device/pluggable_device_factory.cc:305] Could not identify NUMA node of platform GPU ID 0, defaulting to 0. Your kernel may not have been built with NUMA support.\n",
      "2022-05-04 08:58:37.866953: I tensorflow/core/common_runtime/pluggable_device/pluggable_device_factory.cc:271] Created TensorFlow device (/job:localhost/replica:0/task:0/device:GPU:0 with 0 MB memory) -> physical PluggableDevice (device: 0, name: METAL, pci bus id: <undefined>)\n"
     ]
    },
    {
     "name": "stdout",
     "output_type": "stream",
     "text": [
      "Model: \"model\"\n",
      "_________________________________________________________________\n",
      " Layer (type)                Output Shape              Param #   \n",
      "=================================================================\n",
      " input_2 (InputLayer)        [(None, 256, 256, 3)]     0         \n",
      "                                                                 \n",
      " efficientnetv2-b3 (Function  (None, 8, 8, 1536)       12930622  \n",
      " al)                                                             \n",
      "                                                                 \n",
      " global_average_pooling2d (G  (None, 1536)             0         \n",
      " lobalAveragePooling2D)                                          \n",
      "                                                                 \n",
      " dense (Dense)               (None, 100)               153700    \n",
      "                                                                 \n",
      "=================================================================\n",
      "Total params: 13,084,322\n",
      "Trainable params: 12,975,106\n",
      "Non-trainable params: 109,216\n",
      "_________________________________________________________________\n",
      "WARNING:tensorflow:`period` argument is deprecated. Please use `save_freq` to specify the frequency in number of batches seen.\n",
      "WARNING:tensorflow:Learning rate reduction mode <built-in function min> is unknown, fallback to auto mode.\n",
      "Epoch 1/30\n"
     ]
    },
    {
     "name": "stderr",
     "output_type": "stream",
     "text": [
      "2022-05-04 08:58:40.695250: W tensorflow/core/platform/profile_utils/cpu_utils.cc:128] Failed to get CPU frequency: 0 Hz\n",
      "2022-05-04 08:58:46.076476: I tensorflow/core/grappler/optimizers/custom_graph_optimizer_registry.cc:113] Plugin optimizer for device_type GPU is enabled.\n"
     ]
    },
    {
     "name": "stdout",
     "output_type": "stream",
     "text": [
      "555/555 [==============================] - ETA: 0s - loss: 2.4692 - accuracy: 0.3578"
     ]
    },
    {
     "name": "stderr",
     "output_type": "stream",
     "text": [
      "2022-05-04 09:31:49.739287: I tensorflow/core/grappler/optimizers/custom_graph_optimizer_registry.cc:113] Plugin optimizer for device_type GPU is enabled.\n"
     ]
    },
    {
     "name": "stdout",
     "output_type": "stream",
     "text": [
      "\n",
      "Epoch 1: val_accuracy improved from -inf to 0.56319, saving model to /Users/rudra/Tech/ML_Work/Sorghum_Kaggle_Competition/kFold_models/sorghum_keras_model_fold_0.h5\n",
      "555/555 [==============================] - 2113s 4s/step - loss: 2.4692 - accuracy: 0.3578 - val_loss: 1.4784 - val_accuracy: 0.5632 - lr: 0.0010\n",
      "Epoch 2/30\n",
      "555/555 [==============================] - ETA: 0s - loss: 1.0571 - accuracy: 0.6792\n",
      "Epoch 2: val_accuracy improved from 0.56319 to 0.75918, saving model to /Users/rudra/Tech/ML_Work/Sorghum_Kaggle_Competition/kFold_models/sorghum_keras_model_fold_0.h5\n",
      "555/555 [==============================] - 1676s 3s/step - loss: 1.0571 - accuracy: 0.6792 - val_loss: 0.7715 - val_accuracy: 0.7592 - lr: 0.0010\n",
      "Epoch 3/30\n",
      "555/555 [==============================] - ETA: 0s - loss: 0.6591 - accuracy: 0.7927\n",
      "Epoch 3: val_accuracy improved from 0.75918 to 0.81730, saving model to /Users/rudra/Tech/ML_Work/Sorghum_Kaggle_Competition/kFold_models/sorghum_keras_model_fold_0.h5\n",
      "555/555 [==============================] - 1723s 3s/step - loss: 0.6591 - accuracy: 0.7927 - val_loss: 0.5681 - val_accuracy: 0.8173 - lr: 0.0010\n",
      "Epoch 4/30\n",
      "555/555 [==============================] - ETA: 0s - loss: 0.4757 - accuracy: 0.8487\n",
      "Epoch 4: val_accuracy did not improve from 0.81730\n",
      "555/555 [==============================] - 1537s 3s/step - loss: 0.4757 - accuracy: 0.8487 - val_loss: 0.5610 - val_accuracy: 0.8164 - lr: 0.0010\n",
      "Epoch 5/30\n",
      "555/555 [==============================] - ETA: 0s - loss: 0.3682 - accuracy: 0.8803\n",
      "Epoch 5: val_accuracy improved from 0.81730 to 0.84524, saving model to /Users/rudra/Tech/ML_Work/Sorghum_Kaggle_Competition/kFold_models/sorghum_keras_model_fold_0.h5\n",
      "555/555 [==============================] - 1538s 3s/step - loss: 0.3682 - accuracy: 0.8803 - val_loss: 0.4677 - val_accuracy: 0.8452 - lr: 0.0010\n",
      "Epoch 6/30\n",
      "555/555 [==============================] - ETA: 0s - loss: 0.3327 - accuracy: 0.8948\n",
      "Epoch 6: val_accuracy improved from 0.84524 to 0.86641, saving model to /Users/rudra/Tech/ML_Work/Sorghum_Kaggle_Competition/kFold_models/sorghum_keras_model_fold_0.h5\n",
      "555/555 [==============================] - 1604s 3s/step - loss: 0.3327 - accuracy: 0.8948 - val_loss: 0.4256 - val_accuracy: 0.8664 - lr: 0.0010\n",
      "Epoch 7/30\n",
      "555/555 [==============================] - ETA: 0s - loss: 0.2743 - accuracy: 0.9127\n",
      "Epoch 7: val_accuracy improved from 0.86641 to 0.88781, saving model to /Users/rudra/Tech/ML_Work/Sorghum_Kaggle_Competition/kFold_models/sorghum_keras_model_fold_0.h5\n",
      "555/555 [==============================] - 1604s 3s/step - loss: 0.2743 - accuracy: 0.9127 - val_loss: 0.3456 - val_accuracy: 0.8878 - lr: 0.0010\n",
      "Epoch 8/30\n",
      "555/555 [==============================] - ETA: 0s - loss: 0.2450 - accuracy: 0.9215\n",
      "Epoch 8: val_accuracy improved from 0.88781 to 0.90854, saving model to /Users/rudra/Tech/ML_Work/Sorghum_Kaggle_Competition/kFold_models/sorghum_keras_model_fold_0.h5\n",
      "555/555 [==============================] - 1613s 3s/step - loss: 0.2450 - accuracy: 0.9215 - val_loss: 0.2758 - val_accuracy: 0.9085 - lr: 0.0010\n",
      "Epoch 9/30\n",
      "555/555 [==============================] - ETA: 0s - loss: 0.2118 - accuracy: 0.9332\n",
      "Epoch 9: val_accuracy improved from 0.90854 to 0.91530, saving model to /Users/rudra/Tech/ML_Work/Sorghum_Kaggle_Competition/kFold_models/sorghum_keras_model_fold_0.h5\n",
      "555/555 [==============================] - 2036s 4s/step - loss: 0.2118 - accuracy: 0.9332 - val_loss: 0.2634 - val_accuracy: 0.9153 - lr: 0.0010\n",
      "Epoch 10/30\n",
      "555/555 [==============================] - ETA: 0s - loss: 0.1904 - accuracy: 0.9379\n",
      "Epoch 10: val_accuracy did not improve from 0.91530\n",
      "555/555 [==============================] - 2330s 4s/step - loss: 0.1904 - accuracy: 0.9379 - val_loss: 0.3435 - val_accuracy: 0.8941 - lr: 0.0010\n",
      "Epoch 11/30\n",
      "555/555 [==============================] - ETA: 0s - loss: 0.1908 - accuracy: 0.9406\n",
      "Epoch 11: val_accuracy did not improve from 0.91530\n",
      "555/555 [==============================] - 2252s 4s/step - loss: 0.1908 - accuracy: 0.9406 - val_loss: 0.2863 - val_accuracy: 0.9099 - lr: 0.0010\n",
      "Epoch 12/30\n",
      "555/555 [==============================] - ETA: 0s - loss: 0.1742 - accuracy: 0.9426\n",
      "Epoch 12: val_accuracy improved from 0.91530 to 0.92431, saving model to /Users/rudra/Tech/ML_Work/Sorghum_Kaggle_Competition/kFold_models/sorghum_keras_model_fold_0.h5\n",
      "555/555 [==============================] - 2442s 4s/step - loss: 0.1742 - accuracy: 0.9426 - val_loss: 0.2400 - val_accuracy: 0.9243 - lr: 0.0010\n",
      "Epoch 13/30\n",
      "555/555 [==============================] - ETA: 0s - loss: 0.1607 - accuracy: 0.9472\n",
      "Epoch 13: val_accuracy did not improve from 0.92431\n",
      "555/555 [==============================] - 2138s 4s/step - loss: 0.1607 - accuracy: 0.9472 - val_loss: 0.2317 - val_accuracy: 0.9239 - lr: 0.0010\n",
      "Epoch 14/30\n",
      "555/555 [==============================] - ETA: 0s - loss: 0.1449 - accuracy: 0.9543\n",
      "Epoch 14: val_accuracy did not improve from 0.92431\n",
      "555/555 [==============================] - 3350s 6s/step - loss: 0.1449 - accuracy: 0.9543 - val_loss: 0.3441 - val_accuracy: 0.8934 - lr: 0.0010\n",
      "Epoch 15/30\n",
      "555/555 [==============================] - ETA: 0s - loss: 0.1414 - accuracy: 0.9548\n",
      "Epoch 15: val_accuracy did not improve from 0.92431\n",
      "555/555 [==============================] - 2274s 4s/step - loss: 0.1414 - accuracy: 0.9548 - val_loss: 0.2342 - val_accuracy: 0.9234 - lr: 0.0010\n",
      "Epoch 16/30\n",
      "555/555 [==============================] - ETA: 0s - loss: 0.1254 - accuracy: 0.9600\n",
      "Epoch 16: val_accuracy did not improve from 0.92431\n",
      "555/555 [==============================] - 2073s 4s/step - loss: 0.1254 - accuracy: 0.9600 - val_loss: 0.2472 - val_accuracy: 0.9236 - lr: 0.0010\n",
      "Epoch 16: early stopping\n",
      "Found 23639 validated image filenames.\n"
     ]
    },
    {
     "name": "stderr",
     "output_type": "stream",
     "text": [
      "2022-05-04 17:57:07.794925: I tensorflow/core/grappler/optimizers/custom_graph_optimizer_registry.cc:113] Plugin optimizer for device_type GPU is enabled.\n"
     ]
    },
    {
     "name": "stdout",
     "output_type": "stream",
     "text": [
      "Found 17754 validated image filenames belonging to 100 classes.\n",
      "Found 4439 validated image filenames belonging to 100 classes.\n",
      "Model: \"model_1\"\n",
      "_________________________________________________________________\n",
      " Layer (type)                Output Shape              Param #   \n",
      "=================================================================\n",
      " input_4 (InputLayer)        [(None, 256, 256, 3)]     0         \n",
      "                                                                 \n",
      " efficientnetv2-b3 (Function  (None, 8, 8, 1536)       12930622  \n",
      " al)                                                             \n",
      "                                                                 \n",
      " global_average_pooling2d_1   (None, 1536)             0         \n",
      " (GlobalAveragePooling2D)                                        \n",
      "                                                                 \n",
      " dense_1 (Dense)             (None, 100)               153700    \n",
      "                                                                 \n",
      "=================================================================\n",
      "Total params: 13,084,322\n",
      "Trainable params: 12,975,106\n",
      "Non-trainable params: 109,216\n",
      "_________________________________________________________________\n",
      "WARNING:tensorflow:`period` argument is deprecated. Please use `save_freq` to specify the frequency in number of batches seen.\n",
      "WARNING:tensorflow:Learning rate reduction mode <built-in function min> is unknown, fallback to auto mode.\n",
      "Epoch 1/30\n"
     ]
    },
    {
     "name": "stderr",
     "output_type": "stream",
     "text": [
      "2022-05-04 18:07:49.920706: I tensorflow/core/grappler/optimizers/custom_graph_optimizer_registry.cc:113] Plugin optimizer for device_type GPU is enabled.\n"
     ]
    },
    {
     "name": "stdout",
     "output_type": "stream",
     "text": [
      "555/555 [==============================] - ETA: 0s - loss: 2.4024 - accuracy: 0.3671"
     ]
    },
    {
     "name": "stderr",
     "output_type": "stream",
     "text": [
      "2022-05-04 18:43:23.335618: I tensorflow/core/grappler/optimizers/custom_graph_optimizer_registry.cc:113] Plugin optimizer for device_type GPU is enabled.\n"
     ]
    },
    {
     "name": "stdout",
     "output_type": "stream",
     "text": [
      "\n",
      "Epoch 1: val_accuracy improved from -inf to 0.58054, saving model to /Users/rudra/Tech/ML_Work/Sorghum_Kaggle_Competition/kFold_models/sorghum_keras_model_fold_1.h5\n",
      "555/555 [==============================] - 2273s 4s/step - loss: 2.4024 - accuracy: 0.3671 - val_loss: 1.3952 - val_accuracy: 0.5805 - lr: 0.0010\n",
      "Epoch 2/30\n",
      "555/555 [==============================] - ETA: 0s - loss: 1.0267 - accuracy: 0.6917\n",
      "Epoch 2: val_accuracy improved from 0.58054 to 0.73215, saving model to /Users/rudra/Tech/ML_Work/Sorghum_Kaggle_Competition/kFold_models/sorghum_keras_model_fold_1.h5\n",
      "555/555 [==============================] - 2532s 5s/step - loss: 1.0267 - accuracy: 0.6917 - val_loss: 0.8534 - val_accuracy: 0.7321 - lr: 0.0010\n",
      "Epoch 3/30\n",
      "555/555 [==============================] - ETA: 0s - loss: 0.6499 - accuracy: 0.7957\n",
      "Epoch 3: val_accuracy improved from 0.73215 to 0.82451, saving model to /Users/rudra/Tech/ML_Work/Sorghum_Kaggle_Competition/kFold_models/sorghum_keras_model_fold_1.h5\n",
      "555/555 [==============================] - 3831s 7s/step - loss: 0.6499 - accuracy: 0.7957 - val_loss: 0.5402 - val_accuracy: 0.8245 - lr: 0.0010\n",
      "Epoch 4/30\n",
      "555/555 [==============================] - ETA: 0s - loss: 0.4838 - accuracy: 0.8462\n",
      "Epoch 4: val_accuracy did not improve from 0.82451\n",
      "555/555 [==============================] - 1727s 3s/step - loss: 0.4838 - accuracy: 0.8462 - val_loss: 0.7524 - val_accuracy: 0.7709 - lr: 0.0010\n",
      "Epoch 5/30\n",
      "555/555 [==============================] - ETA: 0s - loss: 0.3766 - accuracy: 0.8821\n",
      "Epoch 5: val_accuracy improved from 0.82451 to 0.86213, saving model to /Users/rudra/Tech/ML_Work/Sorghum_Kaggle_Competition/kFold_models/sorghum_keras_model_fold_1.h5\n",
      "555/555 [==============================] - 2958s 5s/step - loss: 0.3766 - accuracy: 0.8821 - val_loss: 0.4183 - val_accuracy: 0.8621 - lr: 0.0010\n",
      "Epoch 6/30\n",
      "555/555 [==============================] - ETA: 0s - loss: 0.3200 - accuracy: 0.8975\n",
      "Epoch 6: val_accuracy improved from 0.86213 to 0.88466, saving model to /Users/rudra/Tech/ML_Work/Sorghum_Kaggle_Competition/kFold_models/sorghum_keras_model_fold_1.h5\n",
      "555/555 [==============================] - 2420s 4s/step - loss: 0.3200 - accuracy: 0.8975 - val_loss: 0.3579 - val_accuracy: 0.8847 - lr: 0.0010\n",
      "Epoch 7/30\n",
      "555/555 [==============================] - ETA: 0s - loss: 0.2766 - accuracy: 0.9123\n",
      "Epoch 7: val_accuracy did not improve from 0.88466\n",
      "555/555 [==============================] - 2563s 5s/step - loss: 0.2766 - accuracy: 0.9123 - val_loss: 0.4485 - val_accuracy: 0.8479 - lr: 0.0010\n",
      "Epoch 8/30\n",
      "555/555 [==============================] - ETA: 0s - loss: 0.2449 - accuracy: 0.9202\n",
      "Epoch 8: val_accuracy improved from 0.88466 to 0.90516, saving model to /Users/rudra/Tech/ML_Work/Sorghum_Kaggle_Competition/kFold_models/sorghum_keras_model_fold_1.h5\n",
      "555/555 [==============================] - 2038s 4s/step - loss: 0.2449 - accuracy: 0.9202 - val_loss: 0.2859 - val_accuracy: 0.9052 - lr: 0.0010\n",
      "Epoch 9/30\n",
      "555/555 [==============================] - ETA: 0s - loss: 0.2142 - accuracy: 0.9315\n",
      "Epoch 9: val_accuracy improved from 0.90516 to 0.91372, saving model to /Users/rudra/Tech/ML_Work/Sorghum_Kaggle_Competition/kFold_models/sorghum_keras_model_fold_1.h5\n",
      "555/555 [==============================] - 1916s 3s/step - loss: 0.2142 - accuracy: 0.9315 - val_loss: 0.2621 - val_accuracy: 0.9137 - lr: 0.0010\n",
      "Epoch 10/30\n",
      "555/555 [==============================] - ETA: 0s - loss: 0.1982 - accuracy: 0.9364\n",
      "Epoch 10: val_accuracy did not improve from 0.91372\n",
      "555/555 [==============================] - 1913s 3s/step - loss: 0.1982 - accuracy: 0.9364 - val_loss: 0.3682 - val_accuracy: 0.8894 - lr: 0.0010\n",
      "Epoch 11/30\n",
      "555/555 [==============================] - ETA: 0s - loss: 0.1931 - accuracy: 0.9361\n",
      "Epoch 11: val_accuracy improved from 0.91372 to 0.91552, saving model to /Users/rudra/Tech/ML_Work/Sorghum_Kaggle_Competition/kFold_models/sorghum_keras_model_fold_1.h5\n",
      "555/555 [==============================] - 1917s 3s/step - loss: 0.1931 - accuracy: 0.9361 - val_loss: 0.2718 - val_accuracy: 0.9155 - lr: 0.0010\n",
      "Epoch 12/30\n",
      "555/555 [==============================] - ETA: 0s - loss: 0.1662 - accuracy: 0.9463\n",
      "Epoch 12: val_accuracy improved from 0.91552 to 0.93625, saving model to /Users/rudra/Tech/ML_Work/Sorghum_Kaggle_Competition/kFold_models/sorghum_keras_model_fold_1.h5\n",
      "555/555 [==============================] - 1908s 3s/step - loss: 0.1662 - accuracy: 0.9463 - val_loss: 0.1966 - val_accuracy: 0.9362 - lr: 0.0010\n",
      "Epoch 13/30\n",
      "555/555 [==============================] - ETA: 0s - loss: 0.1543 - accuracy: 0.9500\n",
      "Epoch 13: val_accuracy did not improve from 0.93625\n",
      "555/555 [==============================] - 1900s 3s/step - loss: 0.1543 - accuracy: 0.9500 - val_loss: 0.2692 - val_accuracy: 0.9126 - lr: 0.0010\n",
      "Epoch 14/30\n",
      "555/555 [==============================] - ETA: 0s - loss: 0.1613 - accuracy: 0.9485\n",
      "Epoch 14: val_accuracy did not improve from 0.93625\n",
      "555/555 [==============================] - 1857s 3s/step - loss: 0.1613 - accuracy: 0.9485 - val_loss: 0.2630 - val_accuracy: 0.9153 - lr: 0.0010\n",
      "Epoch 15/30\n",
      "555/555 [==============================] - ETA: 0s - loss: 0.1264 - accuracy: 0.9583\n",
      "Epoch 15: val_accuracy did not improve from 0.93625\n",
      "555/555 [==============================] - 1857s 3s/step - loss: 0.1264 - accuracy: 0.9583 - val_loss: 0.3403 - val_accuracy: 0.9002 - lr: 0.0010\n",
      "Epoch 15: early stopping\n",
      "Found 23639 validated image filenames.\n"
     ]
    },
    {
     "name": "stderr",
     "output_type": "stream",
     "text": [
      "2022-05-05 03:27:58.291036: I tensorflow/core/grappler/optimizers/custom_graph_optimizer_registry.cc:113] Plugin optimizer for device_type GPU is enabled.\n"
     ]
    },
    {
     "name": "stdout",
     "output_type": "stream",
     "text": [
      "Found 17754 validated image filenames belonging to 100 classes.\n",
      "Found 4439 validated image filenames belonging to 100 classes.\n",
      "Model: \"model_2\"\n",
      "_________________________________________________________________\n",
      " Layer (type)                Output Shape              Param #   \n",
      "=================================================================\n",
      " input_6 (InputLayer)        [(None, 256, 256, 3)]     0         \n",
      "                                                                 \n",
      " efficientnetv2-b3 (Function  (None, 8, 8, 1536)       12930622  \n",
      " al)                                                             \n",
      "                                                                 \n",
      " global_average_pooling2d_2   (None, 1536)             0         \n",
      " (GlobalAveragePooling2D)                                        \n",
      "                                                                 \n",
      " dense_2 (Dense)             (None, 100)               153700    \n",
      "                                                                 \n",
      "=================================================================\n",
      "Total params: 13,084,322\n",
      "Trainable params: 12,975,106\n",
      "Non-trainable params: 109,216\n",
      "_________________________________________________________________\n",
      "WARNING:tensorflow:`period` argument is deprecated. Please use `save_freq` to specify the frequency in number of batches seen.\n",
      "WARNING:tensorflow:Learning rate reduction mode <built-in function min> is unknown, fallback to auto mode.\n",
      "Epoch 1/30\n"
     ]
    },
    {
     "name": "stderr",
     "output_type": "stream",
     "text": [
      "2022-05-05 03:37:56.054966: I tensorflow/core/grappler/optimizers/custom_graph_optimizer_registry.cc:113] Plugin optimizer for device_type GPU is enabled.\n"
     ]
    },
    {
     "name": "stdout",
     "output_type": "stream",
     "text": [
      "555/555 [==============================] - ETA: 0s - loss: 2.4722 - accuracy: 0.3543"
     ]
    },
    {
     "name": "stderr",
     "output_type": "stream",
     "text": [
      "2022-05-05 04:07:08.535836: I tensorflow/core/grappler/optimizers/custom_graph_optimizer_registry.cc:113] Plugin optimizer for device_type GPU is enabled.\n"
     ]
    },
    {
     "name": "stdout",
     "output_type": "stream",
     "text": [
      "\n",
      "Epoch 1: val_accuracy improved from -inf to 0.57017, saving model to /Users/rudra/Tech/ML_Work/Sorghum_Kaggle_Competition/kFold_models/sorghum_keras_model_fold_2.h5\n",
      "555/555 [==============================] - 1897s 3s/step - loss: 2.4722 - accuracy: 0.3543 - val_loss: 1.4642 - val_accuracy: 0.5702 - lr: 0.0010\n",
      "Epoch 2/30\n",
      "555/555 [==============================] - ETA: 0s - loss: 1.0428 - accuracy: 0.6854\n",
      "Epoch 2: val_accuracy improved from 0.57017 to 0.73192, saving model to /Users/rudra/Tech/ML_Work/Sorghum_Kaggle_Competition/kFold_models/sorghum_keras_model_fold_2.h5\n",
      "555/555 [==============================] - 1853s 3s/step - loss: 1.0428 - accuracy: 0.6854 - val_loss: 0.8987 - val_accuracy: 0.7319 - lr: 0.0010\n",
      "Epoch 3/30\n",
      "555/555 [==============================] - ETA: 0s - loss: 0.6486 - accuracy: 0.7938\n",
      "Epoch 3: val_accuracy improved from 0.73192 to 0.82136, saving model to /Users/rudra/Tech/ML_Work/Sorghum_Kaggle_Competition/kFold_models/sorghum_keras_model_fold_2.h5\n",
      "555/555 [==============================] - 1815s 3s/step - loss: 0.6486 - accuracy: 0.7938 - val_loss: 0.5889 - val_accuracy: 0.8214 - lr: 0.0010\n",
      "Epoch 4/30\n",
      "555/555 [==============================] - ETA: 0s - loss: 0.4786 - accuracy: 0.8471\n",
      "Epoch 4: val_accuracy improved from 0.82136 to 0.83848, saving model to /Users/rudra/Tech/ML_Work/Sorghum_Kaggle_Competition/kFold_models/sorghum_keras_model_fold_2.h5\n",
      "555/555 [==============================] - 1804s 3s/step - loss: 0.4786 - accuracy: 0.8471 - val_loss: 0.5177 - val_accuracy: 0.8385 - lr: 0.0010\n",
      "Epoch 5/30\n",
      "555/555 [==============================] - ETA: 0s - loss: 0.3627 - accuracy: 0.8860\n",
      "Epoch 5: val_accuracy did not improve from 0.83848\n",
      "555/555 [==============================] - 1752s 3s/step - loss: 0.3627 - accuracy: 0.8860 - val_loss: 0.5481 - val_accuracy: 0.8335 - lr: 0.0010\n",
      "Epoch 6/30\n",
      "555/555 [==============================] - ETA: 0s - loss: 0.3222 - accuracy: 0.8962\n",
      "Epoch 6: val_accuracy improved from 0.83848 to 0.86664, saving model to /Users/rudra/Tech/ML_Work/Sorghum_Kaggle_Competition/kFold_models/sorghum_keras_model_fold_2.h5\n",
      "555/555 [==============================] - 1711s 3s/step - loss: 0.3222 - accuracy: 0.8962 - val_loss: 0.4409 - val_accuracy: 0.8666 - lr: 0.0010\n",
      "Epoch 7/30\n",
      "555/555 [==============================] - ETA: 0s - loss: 0.2725 - accuracy: 0.9120\n",
      "Epoch 7: val_accuracy improved from 0.86664 to 0.88511, saving model to /Users/rudra/Tech/ML_Work/Sorghum_Kaggle_Competition/kFold_models/sorghum_keras_model_fold_2.h5\n",
      "555/555 [==============================] - 1705s 3s/step - loss: 0.2725 - accuracy: 0.9120 - val_loss: 0.3586 - val_accuracy: 0.8851 - lr: 0.0010\n",
      "Epoch 8/30\n",
      "555/555 [==============================] - ETA: 0s - loss: 0.2364 - accuracy: 0.9227\n",
      "Epoch 8: val_accuracy did not improve from 0.88511\n",
      "555/555 [==============================] - 1706s 3s/step - loss: 0.2364 - accuracy: 0.9227 - val_loss: 0.4095 - val_accuracy: 0.8754 - lr: 0.0010\n",
      "Epoch 9/30\n",
      "555/555 [==============================] - ETA: 0s - loss: 0.2173 - accuracy: 0.9301\n",
      "Epoch 9: val_accuracy improved from 0.88511 to 0.90966, saving model to /Users/rudra/Tech/ML_Work/Sorghum_Kaggle_Competition/kFold_models/sorghum_keras_model_fold_2.h5\n",
      "555/555 [==============================] - 2167s 4s/step - loss: 0.2173 - accuracy: 0.9301 - val_loss: 0.2959 - val_accuracy: 0.9097 - lr: 0.0010\n",
      "Epoch 10/30\n",
      "555/555 [==============================] - ETA: 0s - loss: 0.1936 - accuracy: 0.9378\n",
      "Epoch 10: val_accuracy did not improve from 0.90966\n",
      "555/555 [==============================] - 1601s 3s/step - loss: 0.1936 - accuracy: 0.9378 - val_loss: 0.3622 - val_accuracy: 0.8901 - lr: 0.0010\n",
      "Epoch 11/30\n",
      "555/555 [==============================] - ETA: 0s - loss: 0.1874 - accuracy: 0.9388\n",
      "Epoch 11: val_accuracy did not improve from 0.90966\n",
      "555/555 [==============================] - 1725s 3s/step - loss: 0.1874 - accuracy: 0.9388 - val_loss: 0.3001 - val_accuracy: 0.9054 - lr: 0.0010\n",
      "Epoch 12/30\n",
      "555/555 [==============================] - ETA: 0s - loss: 0.1644 - accuracy: 0.9464\n",
      "Epoch 12: val_accuracy did not improve from 0.90966\n",
      "555/555 [==============================] - 4814s 9s/step - loss: 0.1644 - accuracy: 0.9464 - val_loss: 0.2886 - val_accuracy: 0.9079 - lr: 0.0010\n",
      "Epoch 13/30\n",
      "555/555 [==============================] - ETA: 0s - loss: 0.1568 - accuracy: 0.9499\n",
      "Epoch 13: val_accuracy improved from 0.90966 to 0.92183, saving model to /Users/rudra/Tech/ML_Work/Sorghum_Kaggle_Competition/kFold_models/sorghum_keras_model_fold_2.h5\n",
      "555/555 [==============================] - 2130s 4s/step - loss: 0.1568 - accuracy: 0.9499 - val_loss: 0.2437 - val_accuracy: 0.9218 - lr: 0.0010\n",
      "Epoch 14/30\n",
      "555/555 [==============================] - ETA: 0s - loss: 0.1501 - accuracy: 0.9507\n",
      "Epoch 14: val_accuracy did not improve from 0.92183\n",
      "555/555 [==============================] - 2101s 4s/step - loss: 0.1501 - accuracy: 0.9507 - val_loss: 0.2553 - val_accuracy: 0.9205 - lr: 0.0010\n",
      "Epoch 15/30\n",
      "555/555 [==============================] - ETA: 0s - loss: 0.1313 - accuracy: 0.9580\n",
      "Epoch 15: val_accuracy improved from 0.92183 to 0.92296, saving model to /Users/rudra/Tech/ML_Work/Sorghum_Kaggle_Competition/kFold_models/sorghum_keras_model_fold_2.h5\n",
      "555/555 [==============================] - 2388s 4s/step - loss: 0.1313 - accuracy: 0.9580 - val_loss: 0.2400 - val_accuracy: 0.9230 - lr: 0.0010\n",
      "Epoch 16/30\n",
      "555/555 [==============================] - ETA: 0s - loss: 0.1219 - accuracy: 0.9614\n",
      "Epoch 16: val_accuracy improved from 0.92296 to 0.93309, saving model to /Users/rudra/Tech/ML_Work/Sorghum_Kaggle_Competition/kFold_models/sorghum_keras_model_fold_2.h5\n",
      "555/555 [==============================] - 1717s 3s/step - loss: 0.1219 - accuracy: 0.9614 - val_loss: 0.2096 - val_accuracy: 0.9331 - lr: 0.0010\n",
      "Epoch 17/30\n",
      "555/555 [==============================] - ETA: 0s - loss: 0.1147 - accuracy: 0.9617\n",
      "Epoch 17: val_accuracy did not improve from 0.93309\n",
      "555/555 [==============================] - 2024s 4s/step - loss: 0.1147 - accuracy: 0.9617 - val_loss: 0.2397 - val_accuracy: 0.9263 - lr: 0.0010\n",
      "Epoch 18/30\n",
      "555/555 [==============================] - ETA: 0s - loss: 0.1105 - accuracy: 0.9637\n",
      "Epoch 18: val_accuracy did not improve from 0.93309\n",
      "555/555 [==============================] - 2183s 4s/step - loss: 0.1105 - accuracy: 0.9637 - val_loss: 0.2444 - val_accuracy: 0.9239 - lr: 0.0010\n",
      "Epoch 19/30\n",
      "555/555 [==============================] - ETA: 0s - loss: 0.1104 - accuracy: 0.9648\n",
      "Epoch 19: val_accuracy improved from 0.93309 to 0.93580, saving model to /Users/rudra/Tech/ML_Work/Sorghum_Kaggle_Competition/kFold_models/sorghum_keras_model_fold_2.h5\n",
      "555/555 [==============================] - 2146s 4s/step - loss: 0.1104 - accuracy: 0.9648 - val_loss: 0.2066 - val_accuracy: 0.9358 - lr: 0.0010\n",
      "Epoch 20/30\n",
      "555/555 [==============================] - ETA: 0s - loss: 0.1107 - accuracy: 0.9638\n",
      "Epoch 20: val_accuracy did not improve from 0.93580\n",
      "555/555 [==============================] - 2986s 5s/step - loss: 0.1107 - accuracy: 0.9638 - val_loss: 0.2690 - val_accuracy: 0.9194 - lr: 0.0010\n",
      "Epoch 21/30\n",
      "555/555 [==============================] - ETA: 0s - loss: 0.1054 - accuracy: 0.9664\n",
      "Epoch 21: val_accuracy improved from 0.93580 to 0.93647, saving model to /Users/rudra/Tech/ML_Work/Sorghum_Kaggle_Competition/kFold_models/sorghum_keras_model_fold_2.h5\n",
      "555/555 [==============================] - 1929s 3s/step - loss: 0.1054 - accuracy: 0.9664 - val_loss: 0.1977 - val_accuracy: 0.9365 - lr: 0.0010\n",
      "Epoch 22/30\n",
      "555/555 [==============================] - ETA: 0s - loss: 0.0945 - accuracy: 0.9698\n",
      "Epoch 22: val_accuracy improved from 0.93647 to 0.94346, saving model to /Users/rudra/Tech/ML_Work/Sorghum_Kaggle_Competition/kFold_models/sorghum_keras_model_fold_2.h5\n",
      "555/555 [==============================] - 2409s 4s/step - loss: 0.0945 - accuracy: 0.9698 - val_loss: 0.1850 - val_accuracy: 0.9435 - lr: 0.0010\n",
      "Epoch 23/30\n",
      "555/555 [==============================] - ETA: 0s - loss: 0.0867 - accuracy: 0.9715\n",
      "Epoch 23: val_accuracy did not improve from 0.94346\n",
      "555/555 [==============================] - 2283s 4s/step - loss: 0.0867 - accuracy: 0.9715 - val_loss: 0.2078 - val_accuracy: 0.9358 - lr: 0.0010\n",
      "Epoch 24/30\n",
      "555/555 [==============================] - ETA: 0s - loss: 0.0903 - accuracy: 0.9704\n",
      "Epoch 24: val_accuracy improved from 0.94346 to 0.94999, saving model to /Users/rudra/Tech/ML_Work/Sorghum_Kaggle_Competition/kFold_models/sorghum_keras_model_fold_2.h5\n",
      "555/555 [==============================] - 1836s 3s/step - loss: 0.0903 - accuracy: 0.9704 - val_loss: 0.1729 - val_accuracy: 0.9500 - lr: 0.0010\n",
      "Epoch 25/30\n",
      "555/555 [==============================] - ETA: 0s - loss: 0.0837 - accuracy: 0.9726\n",
      "Epoch 25: val_accuracy improved from 0.94999 to 0.95742, saving model to /Users/rudra/Tech/ML_Work/Sorghum_Kaggle_Competition/kFold_models/sorghum_keras_model_fold_2.h5\n",
      "555/555 [==============================] - 1850s 3s/step - loss: 0.0837 - accuracy: 0.9726 - val_loss: 0.1520 - val_accuracy: 0.9574 - lr: 0.0010\n",
      "Epoch 26/30\n",
      "555/555 [==============================] - ETA: 0s - loss: 0.0849 - accuracy: 0.9721\n",
      "Epoch 26: val_accuracy did not improve from 0.95742\n",
      "555/555 [==============================] - 2104s 4s/step - loss: 0.0849 - accuracy: 0.9721 - val_loss: 0.1874 - val_accuracy: 0.9423 - lr: 0.0010\n",
      "Epoch 27/30\n",
      "555/555 [==============================] - ETA: 0s - loss: 0.0814 - accuracy: 0.9738\n",
      "Epoch 27: val_accuracy did not improve from 0.95742\n",
      "555/555 [==============================] - 2011s 4s/step - loss: 0.0814 - accuracy: 0.9738 - val_loss: 0.2105 - val_accuracy: 0.9426 - lr: 0.0010\n",
      "Epoch 28/30\n",
      "555/555 [==============================] - ETA: 0s - loss: 0.0841 - accuracy: 0.9739\n",
      "Epoch 28: val_accuracy did not improve from 0.95742\n",
      "555/555 [==============================] - 2169s 4s/step - loss: 0.0841 - accuracy: 0.9739 - val_loss: 0.1998 - val_accuracy: 0.9426 - lr: 0.0010\n",
      "Epoch 28: early stopping\n",
      "Found 23639 validated image filenames.\n"
     ]
    },
    {
     "name": "stderr",
     "output_type": "stream",
     "text": [
      "2022-05-05 19:58:04.931541: I tensorflow/core/grappler/optimizers/custom_graph_optimizer_registry.cc:113] Plugin optimizer for device_type GPU is enabled.\n"
     ]
    },
    {
     "name": "stdout",
     "output_type": "stream",
     "text": [
      "Found 17755 validated image filenames belonging to 100 classes.\n",
      "Found 4438 validated image filenames belonging to 100 classes.\n",
      "Model: \"model_3\"\n",
      "_________________________________________________________________\n",
      " Layer (type)                Output Shape              Param #   \n",
      "=================================================================\n",
      " input_8 (InputLayer)        [(None, 256, 256, 3)]     0         \n",
      "                                                                 \n",
      " efficientnetv2-b3 (Function  (None, 8, 8, 1536)       12930622  \n",
      " al)                                                             \n",
      "                                                                 \n",
      " global_average_pooling2d_3   (None, 1536)             0         \n",
      " (GlobalAveragePooling2D)                                        \n",
      "                                                                 \n",
      " dense_3 (Dense)             (None, 100)               153700    \n",
      "                                                                 \n",
      "=================================================================\n",
      "Total params: 13,084,322\n",
      "Trainable params: 12,975,106\n",
      "Non-trainable params: 109,216\n",
      "_________________________________________________________________\n",
      "WARNING:tensorflow:`period` argument is deprecated. Please use `save_freq` to specify the frequency in number of batches seen.\n",
      "WARNING:tensorflow:Learning rate reduction mode <built-in function min> is unknown, fallback to auto mode.\n",
      "Epoch 1/30\n"
     ]
    },
    {
     "name": "stderr",
     "output_type": "stream",
     "text": [
      "2022-05-05 20:06:22.846609: I tensorflow/core/grappler/optimizers/custom_graph_optimizer_registry.cc:113] Plugin optimizer for device_type GPU is enabled.\n"
     ]
    },
    {
     "name": "stdout",
     "output_type": "stream",
     "text": [
      "555/555 [==============================] - ETA: 0s - loss: 2.4905 - accuracy: 0.3517"
     ]
    },
    {
     "name": "stderr",
     "output_type": "stream",
     "text": [
      "2022-05-05 20:50:34.676983: I tensorflow/core/grappler/optimizers/custom_graph_optimizer_registry.cc:113] Plugin optimizer for device_type GPU is enabled.\n"
     ]
    },
    {
     "name": "stdout",
     "output_type": "stream",
     "text": [
      "\n",
      "Epoch 1: val_accuracy improved from -inf to 0.59712, saving model to /Users/rudra/Tech/ML_Work/Sorghum_Kaggle_Competition/kFold_models/sorghum_keras_model_fold_3.h5\n",
      "555/555 [==============================] - 2758s 5s/step - loss: 2.4905 - accuracy: 0.3517 - val_loss: 1.3612 - val_accuracy: 0.5971 - lr: 0.0010\n",
      "Epoch 2/30\n",
      "555/555 [==============================] - ETA: 0s - loss: 1.0447 - accuracy: 0.6868\n",
      "Epoch 2: val_accuracy improved from 0.59712 to 0.71631, saving model to /Users/rudra/Tech/ML_Work/Sorghum_Kaggle_Competition/kFold_models/sorghum_keras_model_fold_3.h5\n",
      "555/555 [==============================] - 2988s 5s/step - loss: 1.0447 - accuracy: 0.6868 - val_loss: 0.9423 - val_accuracy: 0.7163 - lr: 0.0010\n",
      "Epoch 3/30\n",
      "555/555 [==============================] - ETA: 0s - loss: 0.6412 - accuracy: 0.7984\n",
      "Epoch 3: val_accuracy improved from 0.71631 to 0.82717, saving model to /Users/rudra/Tech/ML_Work/Sorghum_Kaggle_Competition/kFold_models/sorghum_keras_model_fold_3.h5\n",
      "555/555 [==============================] - 1850s 3s/step - loss: 0.6412 - accuracy: 0.7984 - val_loss: 0.5453 - val_accuracy: 0.8272 - lr: 0.0010\n",
      "Epoch 4/30\n",
      "555/555 [==============================] - ETA: 0s - loss: 0.4936 - accuracy: 0.8453\n",
      "Epoch 4: val_accuracy did not improve from 0.82717\n",
      "555/555 [==============================] - 1834s 3s/step - loss: 0.4936 - accuracy: 0.8453 - val_loss: 0.5719 - val_accuracy: 0.8233 - lr: 0.0010\n",
      "Epoch 5/30\n",
      "555/555 [==============================] - ETA: 0s - loss: 0.3827 - accuracy: 0.8800\n",
      "Epoch 5: val_accuracy improved from 0.82717 to 0.85579, saving model to /Users/rudra/Tech/ML_Work/Sorghum_Kaggle_Competition/kFold_models/sorghum_keras_model_fold_3.h5\n",
      "555/555 [==============================] - 1487s 3s/step - loss: 0.3827 - accuracy: 0.8800 - val_loss: 0.4475 - val_accuracy: 0.8558 - lr: 0.0010\n",
      "Epoch 6/30\n",
      "555/555 [==============================] - ETA: 0s - loss: 0.3069 - accuracy: 0.9009\n",
      "Epoch 6: val_accuracy improved from 0.85579 to 0.87562, saving model to /Users/rudra/Tech/ML_Work/Sorghum_Kaggle_Competition/kFold_models/sorghum_keras_model_fold_3.h5\n",
      "555/555 [==============================] - 1457s 3s/step - loss: 0.3069 - accuracy: 0.9009 - val_loss: 0.3961 - val_accuracy: 0.8756 - lr: 0.0010\n",
      "Epoch 7/30\n",
      "555/555 [==============================] - ETA: 0s - loss: 0.2869 - accuracy: 0.9075\n",
      "Epoch 7: val_accuracy improved from 0.87562 to 0.88576, saving model to /Users/rudra/Tech/ML_Work/Sorghum_Kaggle_Competition/kFold_models/sorghum_keras_model_fold_3.h5\n",
      "555/555 [==============================] - 1533s 3s/step - loss: 0.2869 - accuracy: 0.9075 - val_loss: 0.3662 - val_accuracy: 0.8858 - lr: 0.0010\n",
      "Epoch 8/30\n",
      "555/555 [==============================] - ETA: 0s - loss: 0.2387 - accuracy: 0.9262\n",
      "Epoch 8: val_accuracy improved from 0.88576 to 0.89748, saving model to /Users/rudra/Tech/ML_Work/Sorghum_Kaggle_Competition/kFold_models/sorghum_keras_model_fold_3.h5\n",
      "555/555 [==============================] - 2503s 5s/step - loss: 0.2387 - accuracy: 0.9262 - val_loss: 0.3239 - val_accuracy: 0.8975 - lr: 0.0010\n",
      "Epoch 9/30\n",
      "555/555 [==============================] - ETA: 0s - loss: 0.2263 - accuracy: 0.9274\n",
      "Epoch 9: val_accuracy did not improve from 0.89748\n",
      "555/555 [==============================] - 3459s 6s/step - loss: 0.2263 - accuracy: 0.9274 - val_loss: 0.3568 - val_accuracy: 0.8880 - lr: 0.0010\n",
      "Epoch 10/30\n",
      "555/555 [==============================] - ETA: 0s - loss: 0.1880 - accuracy: 0.9378\n",
      "Epoch 10: val_accuracy improved from 0.89748 to 0.90649, saving model to /Users/rudra/Tech/ML_Work/Sorghum_Kaggle_Competition/kFold_models/sorghum_keras_model_fold_3.h5\n",
      "555/555 [==============================] - 2738s 5s/step - loss: 0.1880 - accuracy: 0.9378 - val_loss: 0.3205 - val_accuracy: 0.9065 - lr: 0.0010\n",
      "Epoch 11/30\n",
      "555/555 [==============================] - ETA: 0s - loss: 0.2000 - accuracy: 0.9357\n",
      "Epoch 11: val_accuracy did not improve from 0.90649\n",
      "555/555 [==============================] - 2133s 4s/step - loss: 0.2000 - accuracy: 0.9357 - val_loss: 0.3250 - val_accuracy: 0.8982 - lr: 0.0010\n",
      "Epoch 12/30\n",
      "555/555 [==============================] - ETA: 0s - loss: 0.1632 - accuracy: 0.9467\n",
      "Epoch 12: val_accuracy did not improve from 0.90649\n",
      "555/555 [==============================] - 2081s 4s/step - loss: 0.1632 - accuracy: 0.9467 - val_loss: 0.3417 - val_accuracy: 0.8986 - lr: 0.0010\n",
      "Epoch 13/30\n",
      "555/555 [==============================] - ETA: 0s - loss: 0.1530 - accuracy: 0.9500\n",
      "Epoch 13: val_accuracy improved from 0.90649 to 0.91483, saving model to /Users/rudra/Tech/ML_Work/Sorghum_Kaggle_Competition/kFold_models/sorghum_keras_model_fold_3.h5\n",
      "555/555 [==============================] - 2028s 4s/step - loss: 0.1530 - accuracy: 0.9500 - val_loss: 0.2767 - val_accuracy: 0.9148 - lr: 0.0010\n",
      "Epoch 14/30\n",
      "555/555 [==============================] - ETA: 0s - loss: 0.1535 - accuracy: 0.9486\n",
      "Epoch 14: val_accuracy improved from 0.91483 to 0.93826, saving model to /Users/rudra/Tech/ML_Work/Sorghum_Kaggle_Competition/kFold_models/sorghum_keras_model_fold_3.h5\n",
      "555/555 [==============================] - 2010s 4s/step - loss: 0.1535 - accuracy: 0.9486 - val_loss: 0.2001 - val_accuracy: 0.9383 - lr: 0.0010\n",
      "Epoch 15/30\n",
      "555/555 [==============================] - ETA: 0s - loss: 0.1285 - accuracy: 0.9596\n",
      "Epoch 15: val_accuracy did not improve from 0.93826\n",
      "555/555 [==============================] - 1985s 4s/step - loss: 0.1285 - accuracy: 0.9596 - val_loss: 0.3033 - val_accuracy: 0.9114 - lr: 0.0010\n",
      "Epoch 16/30\n",
      "555/555 [==============================] - ETA: 0s - loss: 0.1320 - accuracy: 0.9578\n",
      "Epoch 16: val_accuracy did not improve from 0.93826\n",
      "555/555 [==============================] - 2356s 4s/step - loss: 0.1320 - accuracy: 0.9578 - val_loss: 0.2466 - val_accuracy: 0.9196 - lr: 0.0010\n",
      "Epoch 17/30\n",
      "555/555 [==============================] - ETA: 0s - loss: 0.1228 - accuracy: 0.9615\n",
      "Epoch 17: val_accuracy did not improve from 0.93826\n",
      "555/555 [==============================] - 2036s 4s/step - loss: 0.1228 - accuracy: 0.9615 - val_loss: 0.2083 - val_accuracy: 0.9351 - lr: 0.0010\n",
      "Epoch 17: early stopping\n",
      "Found 23639 validated image filenames.\n"
     ]
    },
    {
     "name": "stderr",
     "output_type": "stream",
     "text": [
      "2022-05-06 06:26:53.997592: I tensorflow/core/grappler/optimizers/custom_graph_optimizer_registry.cc:113] Plugin optimizer for device_type GPU is enabled.\n"
     ]
    },
    {
     "name": "stdout",
     "output_type": "stream",
     "text": [
      "Found 17755 validated image filenames belonging to 100 classes.\n",
      "Found 4438 validated image filenames belonging to 100 classes.\n",
      "Model: \"model_4\"\n",
      "_________________________________________________________________\n",
      " Layer (type)                Output Shape              Param #   \n",
      "=================================================================\n",
      " input_10 (InputLayer)       [(None, 256, 256, 3)]     0         \n",
      "                                                                 \n",
      " efficientnetv2-b3 (Function  (None, 8, 8, 1536)       12930622  \n",
      " al)                                                             \n",
      "                                                                 \n",
      " global_average_pooling2d_4   (None, 1536)             0         \n",
      " (GlobalAveragePooling2D)                                        \n",
      "                                                                 \n",
      " dense_4 (Dense)             (None, 100)               153700    \n",
      "                                                                 \n",
      "=================================================================\n",
      "Total params: 13,084,322\n",
      "Trainable params: 12,975,106\n",
      "Non-trainable params: 109,216\n",
      "_________________________________________________________________\n",
      "WARNING:tensorflow:`period` argument is deprecated. Please use `save_freq` to specify the frequency in number of batches seen.\n",
      "WARNING:tensorflow:Learning rate reduction mode <built-in function min> is unknown, fallback to auto mode.\n",
      "Epoch 1/30\n"
     ]
    },
    {
     "name": "stderr",
     "output_type": "stream",
     "text": [
      "2022-05-06 06:36:57.881591: I tensorflow/core/grappler/optimizers/custom_graph_optimizer_registry.cc:113] Plugin optimizer for device_type GPU is enabled.\n"
     ]
    },
    {
     "name": "stdout",
     "output_type": "stream",
     "text": [
      "555/555 [==============================] - ETA: 0s - loss: 2.4592 - accuracy: 0.3614"
     ]
    },
    {
     "name": "stderr",
     "output_type": "stream",
     "text": [
      "2022-05-06 07:09:46.924969: I tensorflow/core/grappler/optimizers/custom_graph_optimizer_registry.cc:113] Plugin optimizer for device_type GPU is enabled.\n"
     ]
    },
    {
     "name": "stdout",
     "output_type": "stream",
     "text": [
      "\n",
      "Epoch 1: val_accuracy improved from -inf to 0.56422, saving model to /Users/rudra/Tech/ML_Work/Sorghum_Kaggle_Competition/kFold_models/sorghum_keras_model_fold_4.h5\n",
      "555/555 [==============================] - 2126s 4s/step - loss: 2.4592 - accuracy: 0.3614 - val_loss: 1.4592 - val_accuracy: 0.5642 - lr: 0.0010\n",
      "Epoch 2/30\n",
      "555/555 [==============================] - ETA: 0s - loss: 1.0170 - accuracy: 0.6934\n",
      "Epoch 2: val_accuracy improved from 0.56422 to 0.69198, saving model to /Users/rudra/Tech/ML_Work/Sorghum_Kaggle_Competition/kFold_models/sorghum_keras_model_fold_4.h5\n",
      "555/555 [==============================] - 2029s 4s/step - loss: 1.0170 - accuracy: 0.6934 - val_loss: 1.0011 - val_accuracy: 0.6920 - lr: 0.0010\n",
      "Epoch 3/30\n",
      "555/555 [==============================] - ETA: 0s - loss: 0.6384 - accuracy: 0.8014\n",
      "Epoch 3: val_accuracy improved from 0.69198 to 0.79878, saving model to /Users/rudra/Tech/ML_Work/Sorghum_Kaggle_Competition/kFold_models/sorghum_keras_model_fold_4.h5\n",
      "555/555 [==============================] - 2015s 4s/step - loss: 0.6384 - accuracy: 0.8014 - val_loss: 0.6452 - val_accuracy: 0.7988 - lr: 0.0010\n",
      "Epoch 4/30\n",
      "555/555 [==============================] - ETA: 0s - loss: 0.4710 - accuracy: 0.8514\n",
      "Epoch 4: val_accuracy improved from 0.79878 to 0.85940, saving model to /Users/rudra/Tech/ML_Work/Sorghum_Kaggle_Competition/kFold_models/sorghum_keras_model_fold_4.h5\n",
      "555/555 [==============================] - 2026s 4s/step - loss: 0.4710 - accuracy: 0.8514 - val_loss: 0.4551 - val_accuracy: 0.8594 - lr: 0.0010\n",
      "Epoch 5/30\n",
      "555/555 [==============================] - ETA: 0s - loss: 0.3780 - accuracy: 0.8785\n",
      "Epoch 5: val_accuracy did not improve from 0.85940\n",
      "555/555 [==============================] - 2273s 4s/step - loss: 0.3780 - accuracy: 0.8785 - val_loss: 0.5391 - val_accuracy: 0.8357 - lr: 0.0010\n",
      "Epoch 6/30\n",
      "555/555 [==============================] - ETA: 0s - loss: 0.3135 - accuracy: 0.8986\n",
      "Epoch 6: val_accuracy improved from 0.85940 to 0.87472, saving model to /Users/rudra/Tech/ML_Work/Sorghum_Kaggle_Competition/kFold_models/sorghum_keras_model_fold_4.h5\n",
      "555/555 [==============================] - 4204s 8s/step - loss: 0.3135 - accuracy: 0.8986 - val_loss: 0.4098 - val_accuracy: 0.8747 - lr: 0.0010\n",
      "Epoch 7/30\n",
      "555/555 [==============================] - ETA: 0s - loss: 0.2650 - accuracy: 0.9184\n",
      "Epoch 7: val_accuracy improved from 0.87472 to 0.88080, saving model to /Users/rudra/Tech/ML_Work/Sorghum_Kaggle_Competition/kFold_models/sorghum_keras_model_fold_4.h5\n",
      "555/555 [==============================] - 2587s 5s/step - loss: 0.2650 - accuracy: 0.9184 - val_loss: 0.3769 - val_accuracy: 0.8808 - lr: 0.0010\n",
      "Epoch 8/30\n",
      "555/555 [==============================] - ETA: 0s - loss: 0.2390 - accuracy: 0.9230\n",
      "Epoch 8: val_accuracy did not improve from 0.88080\n",
      "555/555 [==============================] - 2834s 5s/step - loss: 0.2390 - accuracy: 0.9230 - val_loss: 0.4131 - val_accuracy: 0.8698 - lr: 0.0010\n",
      "Epoch 9/30\n",
      "555/555 [==============================] - ETA: 0s - loss: 0.2043 - accuracy: 0.9332\n",
      "Epoch 9: val_accuracy improved from 0.88080 to 0.88982, saving model to /Users/rudra/Tech/ML_Work/Sorghum_Kaggle_Competition/kFold_models/sorghum_keras_model_fold_4.h5\n",
      "555/555 [==============================] - 2137s 4s/step - loss: 0.2043 - accuracy: 0.9332 - val_loss: 0.3447 - val_accuracy: 0.8898 - lr: 0.0010\n",
      "Epoch 10/30\n",
      "555/555 [==============================] - ETA: 0s - loss: 0.1950 - accuracy: 0.9360 \n",
      "Epoch 10: val_accuracy improved from 0.88982 to 0.89342, saving model to /Users/rudra/Tech/ML_Work/Sorghum_Kaggle_Competition/kFold_models/sorghum_keras_model_fold_4.h5\n",
      "555/555 [==============================] - 5740s 10s/step - loss: 0.1950 - accuracy: 0.9360 - val_loss: 0.3387 - val_accuracy: 0.8934 - lr: 0.0010\n",
      "Epoch 11/30\n",
      "555/555 [==============================] - ETA: 0s - loss: 0.1716 - accuracy: 0.9448 \n",
      "Epoch 11: val_accuracy did not improve from 0.89342\n",
      "555/555 [==============================] - 6455s 12s/step - loss: 0.1716 - accuracy: 0.9448 - val_loss: 0.3444 - val_accuracy: 0.8918 - lr: 0.0010\n",
      "Epoch 12/30\n",
      "555/555 [==============================] - ETA: 0s - loss: 0.1723 - accuracy: 0.9455\n",
      "Epoch 12: val_accuracy improved from 0.89342 to 0.92452, saving model to /Users/rudra/Tech/ML_Work/Sorghum_Kaggle_Competition/kFold_models/sorghum_keras_model_fold_4.h5\n",
      "555/555 [==============================] - 2151s 4s/step - loss: 0.1723 - accuracy: 0.9455 - val_loss: 0.2555 - val_accuracy: 0.9245 - lr: 0.0010\n",
      "Epoch 13/30\n",
      "555/555 [==============================] - ETA: 0s - loss: 0.1551 - accuracy: 0.9499\n",
      "Epoch 13: val_accuracy did not improve from 0.92452\n",
      "555/555 [==============================] - 2520s 5s/step - loss: 0.1551 - accuracy: 0.9499 - val_loss: 0.2844 - val_accuracy: 0.9119 - lr: 0.0010\n",
      "Epoch 14/30\n",
      "555/555 [==============================] - ETA: 0s - loss: 0.1397 - accuracy: 0.9553\n",
      "Epoch 14: val_accuracy improved from 0.92452 to 0.92744, saving model to /Users/rudra/Tech/ML_Work/Sorghum_Kaggle_Competition/kFold_models/sorghum_keras_model_fold_4.h5\n",
      "555/555 [==============================] - 2736s 5s/step - loss: 0.1397 - accuracy: 0.9553 - val_loss: 0.2376 - val_accuracy: 0.9274 - lr: 0.0010\n",
      "Epoch 15/30\n",
      "555/555 [==============================] - ETA: 0s - loss: 0.1503 - accuracy: 0.9505\n",
      "Epoch 15: val_accuracy did not improve from 0.92744\n",
      "555/555 [==============================] - 2495s 4s/step - loss: 0.1503 - accuracy: 0.9505 - val_loss: 0.2448 - val_accuracy: 0.9196 - lr: 0.0010\n",
      "Epoch 16/30\n",
      "555/555 [==============================] - ETA: 0s - loss: 0.1242 - accuracy: 0.9598\n",
      "Epoch 16: val_accuracy did not improve from 0.92744\n",
      "555/555 [==============================] - 2870s 5s/step - loss: 0.1242 - accuracy: 0.9598 - val_loss: 0.2511 - val_accuracy: 0.9225 - lr: 0.0010\n",
      "Epoch 17/30\n",
      "555/555 [==============================] - ETA: 0s - loss: 0.1260 - accuracy: 0.9593\n",
      "Epoch 17: val_accuracy did not improve from 0.92744\n",
      "555/555 [==============================] - 2399s 4s/step - loss: 0.1260 - accuracy: 0.9593 - val_loss: 0.2639 - val_accuracy: 0.9200 - lr: 0.0010\n",
      "Epoch 17: early stopping\n",
      "Found 23639 validated image filenames.\n"
     ]
    },
    {
     "name": "stderr",
     "output_type": "stream",
     "text": [
      "2022-05-06 20:23:15.498565: I tensorflow/core/grappler/optimizers/custom_graph_optimizer_registry.cc:113] Plugin optimizer for device_type GPU is enabled.\n"
     ]
    }
   ],
   "source": [
    "pred_idx_lst = []\n",
    "skf = StratifiedKFold(n_splits=N_SPLITS)\n",
    "\n",
    "for fold, (train_index, val_index) in enumerate(skf.split(X=train_df.image, y=train_df.cultivar)):\n",
    "    training_data = train_df.iloc[train_index]\n",
    "    val_data  = train_df.iloc[val_index]\n",
    "    train_datagen = create_train_datagen()\n",
    "    train_generator = get_data(train_datagen, training_data, 'train')\n",
    "    valid_generator = get_data(train_datagen, val_data, 'val')\n",
    "\n",
    "    model = create_model()\n",
    "    model.summary()\n",
    "    model.compile(loss='sparse_categorical_crossentropy', optimizer=keras.optimizers.Adam(), metrics=['accuracy'])\n",
    "    history = model.fit(train_generator, validation_data=valid_generator, epochs=EPOCHS, callbacks=createCallbacks(fold))\n",
    "    model.save(f'Sorghum_keras_best_model_fold_{fold}.h5')\n",
    "\n",
    "    test_datagen = ImageDataGenerator()\n",
    "    test_generator = get_data(test_datagen, test_df, 'test')\n",
    "    preds = model.predict(test_generator)\n",
    "    pred_idx = tf.math.argmax(preds, axis=1)\n",
    "    pred_idx_lst.append(pred_idx)"
   ]
  },
  {
   "cell_type": "code",
   "execution_count": 20,
   "metadata": {},
   "outputs": [
    {
     "data": {
      "text/html": [
       "\n",
       "      <iframe id=\"tensorboard-frame-5f20ba8da4740adf\" width=\"100%\" height=\"800\" frameborder=\"0\">\n",
       "      </iframe>\n",
       "      <script>\n",
       "        (function() {\n",
       "          const frame = document.getElementById(\"tensorboard-frame-5f20ba8da4740adf\");\n",
       "          const url = new URL(\"/\", window.location);\n",
       "          const port = 6007;\n",
       "          if (port) {\n",
       "            url.port = port;\n",
       "          }\n",
       "          frame.src = url;\n",
       "        })();\n",
       "      </script>\n",
       "    "
      ],
      "text/plain": [
       "<IPython.core.display.HTML object>"
      ]
     },
     "metadata": {},
     "output_type": "display_data"
    }
   ],
   "source": [
    "%tensorboard --logdir logs/fit"
   ]
  },
  {
   "cell_type": "code",
   "execution_count": 30,
   "metadata": {},
   "outputs": [],
   "source": [
    "predictions = tf.reduce_mean(tf.stack(pred_idx_lst), axis=0)\n",
    "test_df['cultivar'] = le.inverse_transform(list(predictions))\n",
    "test_df.filename = test_df.filename.map(lambda x: x.split('.jpeg')[0] + '.png')\n",
    "test_df.to_csv(f'{BASE_PATH}/kFold_submission.csv', index=False)"
   ]
  },
  {
   "cell_type": "code",
   "execution_count": 31,
   "metadata": {},
   "outputs": [
    {
     "data": {
      "text/plain": [
       "TensorShape([23639])"
      ]
     },
     "execution_count": 31,
     "metadata": {},
     "output_type": "execute_result"
    }
   ],
   "source": [
    "predictions.shape"
   ]
  },
  {
   "cell_type": "code",
   "execution_count": 34,
   "metadata": {},
   "outputs": [
    {
     "data": {
      "text/html": [
       "<div>\n",
       "<style scoped>\n",
       "    .dataframe tbody tr th:only-of-type {\n",
       "        vertical-align: middle;\n",
       "    }\n",
       "\n",
       "    .dataframe tbody tr th {\n",
       "        vertical-align: top;\n",
       "    }\n",
       "\n",
       "    .dataframe thead th {\n",
       "        text-align: right;\n",
       "    }\n",
       "</style>\n",
       "<table border=\"1\" class=\"dataframe\">\n",
       "  <thead>\n",
       "    <tr style=\"text-align: right;\">\n",
       "      <th></th>\n",
       "      <th>filename</th>\n",
       "      <th>cultivar</th>\n",
       "    </tr>\n",
       "  </thead>\n",
       "  <tbody>\n",
       "    <tr>\n",
       "      <th>0</th>\n",
       "      <td>1838798748.png</td>\n",
       "      <td>PI_181083</td>\n",
       "    </tr>\n",
       "    <tr>\n",
       "      <th>1</th>\n",
       "      <td>42096263.png</td>\n",
       "      <td>PI_156463</td>\n",
       "    </tr>\n",
       "    <tr>\n",
       "      <th>2</th>\n",
       "      <td>316490365.png</td>\n",
       "      <td>PI_329299</td>\n",
       "    </tr>\n",
       "    <tr>\n",
       "      <th>3</th>\n",
       "      <td>1091940264.png</td>\n",
       "      <td>PI_218112</td>\n",
       "    </tr>\n",
       "    <tr>\n",
       "      <th>4</th>\n",
       "      <td>470001726.png</td>\n",
       "      <td>PI_329300</td>\n",
       "    </tr>\n",
       "  </tbody>\n",
       "</table>\n",
       "</div>"
      ],
      "text/plain": [
       "         filename   cultivar\n",
       "0  1838798748.png  PI_181083\n",
       "1    42096263.png  PI_156463\n",
       "2   316490365.png  PI_329299\n",
       "3  1091940264.png  PI_218112\n",
       "4   470001726.png  PI_329300"
      ]
     },
     "execution_count": 34,
     "metadata": {},
     "output_type": "execute_result"
    }
   ],
   "source": [
    "test_df.head()"
   ]
  },
  {
   "cell_type": "code",
   "execution_count": 24,
   "metadata": {},
   "outputs": [
    {
     "name": "stdout",
     "output_type": "stream",
     "text": [
      "100%|████████████████████████████████████████| 565k/565k [00:05<00:00, 97.7kB/s]\n",
      "Successfully submitted to Sorghum -100 Cultivar Identification - FGVC 9"
     ]
    }
   ],
   "source": [
    "!kaggle competitions submit -c sorghum-id-fgvc-9 -f /Users/rudra/Tech/ML_Work/Sorghum_Kaggle_Competition/kFold_submission.csv -m \"K Fold Cross Validation - Keras + EfficientNetV2\""
   ]
  },
  {
   "cell_type": "markdown",
   "metadata": {},
   "source": [
    "Inference using the best model"
   ]
  },
  {
   "cell_type": "markdown",
   "metadata": {},
   "source": [
    "Since Fold 2 model has best training as well validation accuracies, we will use it to make predictions here."
   ]
  },
  {
   "cell_type": "code",
   "execution_count": 39,
   "metadata": {},
   "outputs": [
    {
     "name": "stderr",
     "output_type": "stream",
     "text": [
      "2022-05-06 21:34:12.467380: I tensorflow/core/grappler/optimizers/custom_graph_optimizer_registry.cc:113] Plugin optimizer for device_type GPU is enabled.\n"
     ]
    }
   ],
   "source": [
    "best_model = keras.models.load_model('/Users/rudra/Tech/ML_Work/Sorghum_Kaggle_Competition/sorghum_keras_best_model_fold_2.h5')\n",
    "best_preds = best_model.predict(test_generator)\n",
    "best_pred_idx = tf.math.argmax(best_preds, axis=1)\n",
    "\n",
    "test_df['cultivar'] = le.inverse_transform(list(best_pred_idx))"
   ]
  },
  {
   "cell_type": "code",
   "execution_count": 42,
   "metadata": {},
   "outputs": [],
   "source": [
    "test_df.filename = test_df.filename.map(lambda x: x.split('.')[0] + '.png')\n",
    "test_df.to_csv(f'{BASE_PATH}/best_model_submission.csv', index=False)"
   ]
  },
  {
   "cell_type": "code",
   "execution_count": 43,
   "metadata": {},
   "outputs": [
    {
     "name": "stdout",
     "output_type": "stream",
     "text": [
      "100%|█████████████████████████████████████████| 564k/564k [00:05<00:00, 104kB/s]\n",
      "Successfully submitted to Sorghum -100 Cultivar Identification - FGVC 9"
     ]
    }
   ],
   "source": [
    "!kaggle competitions submit -c sorghum-id-fgvc-9 -f /Users/rudra/Tech/ML_Work/Sorghum_Kaggle_Competition/best_model_submission.csv -m \"Inference using Best Model: K Fold Cross Validation - Keras + EfficientNetV2\""
   ]
  },
  {
   "cell_type": "code",
   "execution_count": 51,
   "metadata": {},
   "outputs": [
    {
     "data": {
      "text/plain": [
       "(TensorShape([23639]), 5, TensorShape([23639]))"
      ]
     },
     "execution_count": 51,
     "metadata": {},
     "output_type": "execute_result"
    }
   ],
   "source": [
    "best_pred_idx.shape, len(pred_idx_lst), pred_idx_lst[2].shape"
   ]
  },
  {
   "cell_type": "code",
   "execution_count": 55,
   "metadata": {},
   "outputs": [
    {
     "data": {
      "text/plain": [
       "<tf.Tensor: shape=(23639,), dtype=bool, numpy=array([ True,  True,  True, ...,  True,  True,  True])>"
      ]
     },
     "execution_count": 55,
     "metadata": {},
     "output_type": "execute_result"
    }
   ],
   "source": [
    "best_pred_idx == pred_idx_lst[2]"
   ]
  },
  {
   "cell_type": "code",
   "execution_count": null,
   "metadata": {},
   "outputs": [],
   "source": []
  }
 ],
 "metadata": {
  "interpreter": {
   "hash": "a03200ae361ba04b33dfbb7697ae27a1e19c2e9be6094bfaf79232177e8f3033"
  },
  "kernelspec": {
   "display_name": "Python 3 (ipykernel)",
   "language": "python",
   "name": "python3"
  },
  "language_info": {
   "codemirror_mode": {
    "name": "ipython",
    "version": 3
   },
   "file_extension": ".py",
   "mimetype": "text/x-python",
   "name": "python",
   "nbconvert_exporter": "python",
   "pygments_lexer": "ipython3",
   "version": "3.9.10"
  }
 },
 "nbformat": 4,
 "nbformat_minor": 2
}
