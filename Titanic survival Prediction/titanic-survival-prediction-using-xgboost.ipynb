{
 "cells": [
  {
   "cell_type": "code",
   "execution_count": 1,
   "metadata": {
    "_cell_guid": "b1076dfc-b9ad-4769-8c92-a6c4dae69d19",
    "_uuid": "8f2839f25d086af736a60e9eeb907d3b93b6e0e5"
   },
   "outputs": [
    {
     "name": "stdout",
     "output_type": "stream",
     "text": [
      "/kaggle/input/titanic/gender_submission.csv\n",
      "/kaggle/input/titanic/test.csv\n",
      "/kaggle/input/titanic/train.csv\n"
     ]
    }
   ],
   "source": [
    "# This Python 3 environment comes with many helpful analytics libraries installed\n",
    "# It is defined by the kaggle/python Docker image: https://github.com/kaggle/docker-python\n",
    "# For example, here's several helpful packages to load\n",
    "\n",
    "import numpy as np # linear algebra\n",
    "import pandas as pd # data processing, CSV file I/O (e.g. pd.read_csv)\n",
    "\n",
    "# Input data files are available in the read-only \"../input/\" directory\n",
    "# For example, running this (by clicking run or pressing Shift+Enter) will list all files under the input directory\n",
    "\n",
    "import os\n",
    "for dirname, _, filenames in os.walk('/kaggle/input'):\n",
    "    for filename in filenames:\n",
    "        print(os.path.join(dirname, filename))\n",
    "\n",
    "# You can write up to 5GB to the current directory (/kaggle/working/) that gets preserved as output when you create a version using \"Save & Run All\" \n",
    "# You can also write temporary files to /kaggle/temp/, but they won't be saved outside of the current session"
   ]
  },
  {
   "cell_type": "code",
   "execution_count": 2,
   "metadata": {
    "_cell_guid": "79c7e3d0-c299-4dcb-8224-4455121ee9b0",
    "_uuid": "d629ff2d2480ee46fbb7e2d37f6b5fab8052498a"
   },
   "outputs": [],
   "source": [
    "from sklearn.model_selection import train_test_split\n",
    "train_data = pd.read_csv(\"/kaggle/input/titanic/train.csv\")\n",
    "test_data = pd.read_csv(\"/kaggle/input/titanic/test.csv\")"
   ]
  },
  {
   "cell_type": "code",
   "execution_count": 3,
   "metadata": {},
   "outputs": [
    {
     "data": {
      "text/html": [
       "<div>\n",
       "<style scoped>\n",
       "    .dataframe tbody tr th:only-of-type {\n",
       "        vertical-align: middle;\n",
       "    }\n",
       "\n",
       "    .dataframe tbody tr th {\n",
       "        vertical-align: top;\n",
       "    }\n",
       "\n",
       "    .dataframe thead th {\n",
       "        text-align: right;\n",
       "    }\n",
       "</style>\n",
       "<table border=\"1\" class=\"dataframe\">\n",
       "  <thead>\n",
       "    <tr style=\"text-align: right;\">\n",
       "      <th></th>\n",
       "      <th>PassengerId</th>\n",
       "      <th>Survived</th>\n",
       "      <th>Pclass</th>\n",
       "      <th>Name</th>\n",
       "      <th>Sex</th>\n",
       "      <th>Age</th>\n",
       "      <th>SibSp</th>\n",
       "      <th>Parch</th>\n",
       "      <th>Ticket</th>\n",
       "      <th>Fare</th>\n",
       "      <th>Cabin</th>\n",
       "      <th>Embarked</th>\n",
       "    </tr>\n",
       "  </thead>\n",
       "  <tbody>\n",
       "    <tr>\n",
       "      <th>0</th>\n",
       "      <td>1</td>\n",
       "      <td>0</td>\n",
       "      <td>3</td>\n",
       "      <td>Braund, Mr. Owen Harris</td>\n",
       "      <td>male</td>\n",
       "      <td>22.0</td>\n",
       "      <td>1</td>\n",
       "      <td>0</td>\n",
       "      <td>A/5 21171</td>\n",
       "      <td>7.2500</td>\n",
       "      <td>NaN</td>\n",
       "      <td>S</td>\n",
       "    </tr>\n",
       "    <tr>\n",
       "      <th>1</th>\n",
       "      <td>2</td>\n",
       "      <td>1</td>\n",
       "      <td>1</td>\n",
       "      <td>Cumings, Mrs. John Bradley (Florence Briggs Th...</td>\n",
       "      <td>female</td>\n",
       "      <td>38.0</td>\n",
       "      <td>1</td>\n",
       "      <td>0</td>\n",
       "      <td>PC 17599</td>\n",
       "      <td>71.2833</td>\n",
       "      <td>C85</td>\n",
       "      <td>C</td>\n",
       "    </tr>\n",
       "    <tr>\n",
       "      <th>2</th>\n",
       "      <td>3</td>\n",
       "      <td>1</td>\n",
       "      <td>3</td>\n",
       "      <td>Heikkinen, Miss. Laina</td>\n",
       "      <td>female</td>\n",
       "      <td>26.0</td>\n",
       "      <td>0</td>\n",
       "      <td>0</td>\n",
       "      <td>STON/O2. 3101282</td>\n",
       "      <td>7.9250</td>\n",
       "      <td>NaN</td>\n",
       "      <td>S</td>\n",
       "    </tr>\n",
       "    <tr>\n",
       "      <th>3</th>\n",
       "      <td>4</td>\n",
       "      <td>1</td>\n",
       "      <td>1</td>\n",
       "      <td>Futrelle, Mrs. Jacques Heath (Lily May Peel)</td>\n",
       "      <td>female</td>\n",
       "      <td>35.0</td>\n",
       "      <td>1</td>\n",
       "      <td>0</td>\n",
       "      <td>113803</td>\n",
       "      <td>53.1000</td>\n",
       "      <td>C123</td>\n",
       "      <td>S</td>\n",
       "    </tr>\n",
       "    <tr>\n",
       "      <th>4</th>\n",
       "      <td>5</td>\n",
       "      <td>0</td>\n",
       "      <td>3</td>\n",
       "      <td>Allen, Mr. William Henry</td>\n",
       "      <td>male</td>\n",
       "      <td>35.0</td>\n",
       "      <td>0</td>\n",
       "      <td>0</td>\n",
       "      <td>373450</td>\n",
       "      <td>8.0500</td>\n",
       "      <td>NaN</td>\n",
       "      <td>S</td>\n",
       "    </tr>\n",
       "  </tbody>\n",
       "</table>\n",
       "</div>"
      ],
      "text/plain": [
       "   PassengerId  Survived  Pclass  \\\n",
       "0            1         0       3   \n",
       "1            2         1       1   \n",
       "2            3         1       3   \n",
       "3            4         1       1   \n",
       "4            5         0       3   \n",
       "\n",
       "                                                Name     Sex   Age  SibSp  \\\n",
       "0                            Braund, Mr. Owen Harris    male  22.0      1   \n",
       "1  Cumings, Mrs. John Bradley (Florence Briggs Th...  female  38.0      1   \n",
       "2                             Heikkinen, Miss. Laina  female  26.0      0   \n",
       "3       Futrelle, Mrs. Jacques Heath (Lily May Peel)  female  35.0      1   \n",
       "4                           Allen, Mr. William Henry    male  35.0      0   \n",
       "\n",
       "   Parch            Ticket     Fare Cabin Embarked  \n",
       "0      0         A/5 21171   7.2500   NaN        S  \n",
       "1      0          PC 17599  71.2833   C85        C  \n",
       "2      0  STON/O2. 3101282   7.9250   NaN        S  \n",
       "3      0            113803  53.1000  C123        S  \n",
       "4      0            373450   8.0500   NaN        S  "
      ]
     },
     "execution_count": 3,
     "metadata": {},
     "output_type": "execute_result"
    }
   ],
   "source": [
    "train_data.head()"
   ]
  },
  {
   "cell_type": "code",
   "execution_count": 4,
   "metadata": {},
   "outputs": [],
   "source": [
    "features = ['Pclass', 'Sex', 'Age', 'SibSp', 'Parch', 'Cabin', 'Embarked']\n",
    "X = train_data[features]\n",
    "y = train_data.Survived\n",
    "#X = X_new.drop(['Survived'], axis=1)\n",
    "# Splitting training data into training set and validation set\n",
    "X_train, X_valid, y_train, y_valid = train_test_split(X, y, train_size=0.8, test_size=0.2, random_state=0)"
   ]
  },
  {
   "cell_type": "code",
   "execution_count": 5,
   "metadata": {},
   "outputs": [
    {
     "data": {
      "text/html": [
       "<div>\n",
       "<style scoped>\n",
       "    .dataframe tbody tr th:only-of-type {\n",
       "        vertical-align: middle;\n",
       "    }\n",
       "\n",
       "    .dataframe tbody tr th {\n",
       "        vertical-align: top;\n",
       "    }\n",
       "\n",
       "    .dataframe thead th {\n",
       "        text-align: right;\n",
       "    }\n",
       "</style>\n",
       "<table border=\"1\" class=\"dataframe\">\n",
       "  <thead>\n",
       "    <tr style=\"text-align: right;\">\n",
       "      <th></th>\n",
       "      <th>Pclass</th>\n",
       "      <th>Sex</th>\n",
       "      <th>Age</th>\n",
       "      <th>SibSp</th>\n",
       "      <th>Parch</th>\n",
       "      <th>Cabin</th>\n",
       "      <th>Embarked</th>\n",
       "    </tr>\n",
       "  </thead>\n",
       "  <tbody>\n",
       "    <tr>\n",
       "      <th>140</th>\n",
       "      <td>3</td>\n",
       "      <td>female</td>\n",
       "      <td>NaN</td>\n",
       "      <td>0</td>\n",
       "      <td>2</td>\n",
       "      <td>NaN</td>\n",
       "      <td>C</td>\n",
       "    </tr>\n",
       "    <tr>\n",
       "      <th>439</th>\n",
       "      <td>2</td>\n",
       "      <td>male</td>\n",
       "      <td>31.0</td>\n",
       "      <td>0</td>\n",
       "      <td>0</td>\n",
       "      <td>NaN</td>\n",
       "      <td>S</td>\n",
       "    </tr>\n",
       "    <tr>\n",
       "      <th>817</th>\n",
       "      <td>2</td>\n",
       "      <td>male</td>\n",
       "      <td>31.0</td>\n",
       "      <td>1</td>\n",
       "      <td>1</td>\n",
       "      <td>NaN</td>\n",
       "      <td>C</td>\n",
       "    </tr>\n",
       "    <tr>\n",
       "      <th>378</th>\n",
       "      <td>3</td>\n",
       "      <td>male</td>\n",
       "      <td>20.0</td>\n",
       "      <td>0</td>\n",
       "      <td>0</td>\n",
       "      <td>NaN</td>\n",
       "      <td>C</td>\n",
       "    </tr>\n",
       "    <tr>\n",
       "      <th>491</th>\n",
       "      <td>3</td>\n",
       "      <td>male</td>\n",
       "      <td>21.0</td>\n",
       "      <td>0</td>\n",
       "      <td>0</td>\n",
       "      <td>NaN</td>\n",
       "      <td>S</td>\n",
       "    </tr>\n",
       "  </tbody>\n",
       "</table>\n",
       "</div>"
      ],
      "text/plain": [
       "     Pclass     Sex   Age  SibSp  Parch Cabin Embarked\n",
       "140       3  female   NaN      0      2   NaN        C\n",
       "439       2    male  31.0      0      0   NaN        S\n",
       "817       2    male  31.0      1      1   NaN        C\n",
       "378       3    male  20.0      0      0   NaN        C\n",
       "491       3    male  21.0      0      0   NaN        S"
      ]
     },
     "execution_count": 5,
     "metadata": {},
     "output_type": "execute_result"
    }
   ],
   "source": [
    "X_train.head()"
   ]
  },
  {
   "cell_type": "code",
   "execution_count": 6,
   "metadata": {},
   "outputs": [
    {
     "data": {
      "text/html": [
       "<div>\n",
       "<style scoped>\n",
       "    .dataframe tbody tr th:only-of-type {\n",
       "        vertical-align: middle;\n",
       "    }\n",
       "\n",
       "    .dataframe tbody tr th {\n",
       "        vertical-align: top;\n",
       "    }\n",
       "\n",
       "    .dataframe thead th {\n",
       "        text-align: right;\n",
       "    }\n",
       "</style>\n",
       "<table border=\"1\" class=\"dataframe\">\n",
       "  <thead>\n",
       "    <tr style=\"text-align: right;\">\n",
       "      <th></th>\n",
       "      <th>Pclass</th>\n",
       "      <th>Age</th>\n",
       "      <th>SibSp</th>\n",
       "      <th>Parch</th>\n",
       "    </tr>\n",
       "  </thead>\n",
       "  <tbody>\n",
       "    <tr>\n",
       "      <th>count</th>\n",
       "      <td>712.000000</td>\n",
       "      <td>571.000000</td>\n",
       "      <td>712.000000</td>\n",
       "      <td>712.000000</td>\n",
       "    </tr>\n",
       "    <tr>\n",
       "      <th>mean</th>\n",
       "      <td>2.317416</td>\n",
       "      <td>29.745184</td>\n",
       "      <td>0.529494</td>\n",
       "      <td>0.391854</td>\n",
       "    </tr>\n",
       "    <tr>\n",
       "      <th>std</th>\n",
       "      <td>0.833767</td>\n",
       "      <td>14.619046</td>\n",
       "      <td>1.140842</td>\n",
       "      <td>0.821368</td>\n",
       "    </tr>\n",
       "    <tr>\n",
       "      <th>min</th>\n",
       "      <td>1.000000</td>\n",
       "      <td>0.670000</td>\n",
       "      <td>0.000000</td>\n",
       "      <td>0.000000</td>\n",
       "    </tr>\n",
       "    <tr>\n",
       "      <th>25%</th>\n",
       "      <td>2.000000</td>\n",
       "      <td>20.750000</td>\n",
       "      <td>0.000000</td>\n",
       "      <td>0.000000</td>\n",
       "    </tr>\n",
       "    <tr>\n",
       "      <th>50%</th>\n",
       "      <td>3.000000</td>\n",
       "      <td>29.000000</td>\n",
       "      <td>0.000000</td>\n",
       "      <td>0.000000</td>\n",
       "    </tr>\n",
       "    <tr>\n",
       "      <th>75%</th>\n",
       "      <td>3.000000</td>\n",
       "      <td>38.000000</td>\n",
       "      <td>1.000000</td>\n",
       "      <td>0.000000</td>\n",
       "    </tr>\n",
       "    <tr>\n",
       "      <th>max</th>\n",
       "      <td>3.000000</td>\n",
       "      <td>80.000000</td>\n",
       "      <td>8.000000</td>\n",
       "      <td>6.000000</td>\n",
       "    </tr>\n",
       "  </tbody>\n",
       "</table>\n",
       "</div>"
      ],
      "text/plain": [
       "           Pclass         Age       SibSp       Parch\n",
       "count  712.000000  571.000000  712.000000  712.000000\n",
       "mean     2.317416   29.745184    0.529494    0.391854\n",
       "std      0.833767   14.619046    1.140842    0.821368\n",
       "min      1.000000    0.670000    0.000000    0.000000\n",
       "25%      2.000000   20.750000    0.000000    0.000000\n",
       "50%      3.000000   29.000000    0.000000    0.000000\n",
       "75%      3.000000   38.000000    1.000000    0.000000\n",
       "max      3.000000   80.000000    8.000000    6.000000"
      ]
     },
     "execution_count": 6,
     "metadata": {},
     "output_type": "execute_result"
    }
   ],
   "source": [
    "X_train.describe()"
   ]
  },
  {
   "cell_type": "markdown",
   "metadata": {},
   "source": [
    "# ***Data Preprocessing***"
   ]
  },
  {
   "cell_type": "markdown",
   "metadata": {},
   "source": [
    "Separate numeric columns and categorical columns"
   ]
  },
  {
   "cell_type": "code",
   "execution_count": 7,
   "metadata": {},
   "outputs": [
    {
     "name": "stdout",
     "output_type": "stream",
     "text": [
      "Numerical columns:  ['Pclass', 'Age', 'SibSp', 'Parch']\n",
      "Categorical columns:  ['Sex', 'Embarked']\n"
     ]
    }
   ],
   "source": [
    "numerical_cols = [col for col in X_train.columns if X_train[col].dtype in ['int64', 'float64']]\n",
    "categorical_cols = [col for col in X_train.columns if X_train[col].nunique()<10 and X_train[col].dtype == 'object']\n",
    "print('Numerical columns: ', numerical_cols)\n",
    "print('Categorical columns: ', categorical_cols)"
   ]
  },
  {
   "cell_type": "code",
   "execution_count": 8,
   "metadata": {},
   "outputs": [
    {
     "data": {
      "text/plain": [
       "['Age', 'Cabin', 'Embarked']"
      ]
     },
     "execution_count": 8,
     "metadata": {},
     "output_type": "execute_result"
    }
   ],
   "source": [
    "cols_with_missing_values = [col for col in X_train.columns if X_train[col].isnull().any()]\n",
    "cols_with_missing_values"
   ]
  },
  {
   "cell_type": "code",
   "execution_count": 9,
   "metadata": {},
   "outputs": [],
   "source": [
    "from sklearn.compose import ColumnTransformer\n",
    "from sklearn.pipeline import Pipeline\n",
    "from sklearn.impute import SimpleImputer\n",
    "from sklearn.preprocessing import OneHotEncoder"
   ]
  },
  {
   "cell_type": "markdown",
   "metadata": {},
   "source": [
    "Preprocessing for numerical data"
   ]
  },
  {
   "cell_type": "code",
   "execution_count": 10,
   "metadata": {},
   "outputs": [],
   "source": [
    "numerical_transformer = SimpleImputer(strategy='mean')"
   ]
  },
  {
   "cell_type": "markdown",
   "metadata": {},
   "source": [
    "Preprocessing for categorical data"
   ]
  },
  {
   "cell_type": "code",
   "execution_count": 11,
   "metadata": {},
   "outputs": [],
   "source": [
    "categorical_transformer = Pipeline(steps = [\n",
    "    ('imputer', SimpleImputer(strategy='most_frequent')),\n",
    "    ('onehot', OneHotEncoder(handle_unknown='ignore'))\n",
    "])"
   ]
  },
  {
   "cell_type": "markdown",
   "metadata": {},
   "source": [
    "Bundling processing for numerical and categorical data"
   ]
  },
  {
   "cell_type": "code",
   "execution_count": 12,
   "metadata": {},
   "outputs": [],
   "source": [
    "preprocessor = ColumnTransformer(\n",
    "                    transformers = [\n",
    "                        ('num', numerical_transformer, numerical_cols),\n",
    "                        ('cat', categorical_transformer, categorical_cols)\n",
    "                    ] \n",
    ")"
   ]
  },
  {
   "cell_type": "markdown",
   "metadata": {},
   "source": [
    "# Modeling and Pipeline"
   ]
  },
  {
   "cell_type": "markdown",
   "metadata": {},
   "source": [
    "Defining model"
   ]
  },
  {
   "cell_type": "code",
   "execution_count": 13,
   "metadata": {},
   "outputs": [],
   "source": [
    "from xgboost import XGBRegressor\n",
    "model = XGBRegressor(n_estimators=1000, learning_rate=0.05, early_stopping_rounds=5, eval_set=[X_valid, y_valid], verbose=False)"
   ]
  },
  {
   "cell_type": "markdown",
   "metadata": {},
   "source": [
    "Evaluation metrics"
   ]
  },
  {
   "cell_type": "code",
   "execution_count": 14,
   "metadata": {},
   "outputs": [],
   "source": [
    "from sklearn.metrics import mean_absolute_error as mae"
   ]
  },
  {
   "cell_type": "markdown",
   "metadata": {},
   "source": [
    "Bundling preprocessing and modeling code in a pipeline"
   ]
  },
  {
   "cell_type": "code",
   "execution_count": 15,
   "metadata": {},
   "outputs": [],
   "source": [
    "my_pipeline = Pipeline(steps = [\n",
    "    ('preprocessor', preprocessor),\n",
    "    ('model', model)\n",
    "])"
   ]
  },
  {
   "cell_type": "code",
   "execution_count": 16,
   "metadata": {},
   "outputs": [
    {
     "data": {
      "text/plain": [
       "Pipeline(memory=None,\n",
       "         steps=[('preprocessor',\n",
       "                 ColumnTransformer(n_jobs=None, remainder='drop',\n",
       "                                   sparse_threshold=0.3,\n",
       "                                   transformer_weights=None,\n",
       "                                   transformers=[('num',\n",
       "                                                  SimpleImputer(add_indicator=False,\n",
       "                                                                copy=True,\n",
       "                                                                fill_value=None,\n",
       "                                                                missing_values=nan,\n",
       "                                                                strategy='mean',\n",
       "                                                                verbose=0),\n",
       "                                                  ['Pclass', 'Age', 'SibSp',\n",
       "                                                   'Parch']),\n",
       "                                                 ('cat',\n",
       "                                                  Pipeline(memory=None,\n",
       "                                                           steps=[('imputer',\n",
       "                                                                   Simple...\n",
       "                              interaction_constraints=None, learning_rate=0.05,\n",
       "                              max_delta_step=0, max_depth=6, min_child_weight=1,\n",
       "                              missing=nan, monotone_constraints=None,\n",
       "                              n_estimators=1000, n_jobs=0, num_parallel_tree=1,\n",
       "                              objective='reg:squarederror', random_state=0,\n",
       "                              reg_alpha=0, reg_lambda=1, scale_pos_weight=1,\n",
       "                              subsample=1, tree_method=None,\n",
       "                              validate_parameters=False, verbose=False,\n",
       "                              verbosity=None))],\n",
       "         verbose=False)"
      ]
     },
     "execution_count": 16,
     "metadata": {},
     "output_type": "execute_result"
    }
   ],
   "source": [
    "my_pipeline.fit(X_train, y_train)"
   ]
  },
  {
   "cell_type": "code",
   "execution_count": 17,
   "metadata": {},
   "outputs": [],
   "source": [
    "preds = my_pipeline.predict(X_valid)"
   ]
  },
  {
   "cell_type": "code",
   "execution_count": 18,
   "metadata": {},
   "outputs": [
    {
     "data": {
      "text/plain": [
       "0.25197209188339664"
      ]
     },
     "execution_count": 18,
     "metadata": {},
     "output_type": "execute_result"
    }
   ],
   "source": [
    "from sklearn.model_selection import cross_val_score\n",
    "scores = -1 * cross_val_score(my_pipeline, X, y, cv=5, scoring='neg_mean_absolute_error')\n",
    "scores.mean()"
   ]
  },
  {
   "cell_type": "code",
   "execution_count": 19,
   "metadata": {},
   "outputs": [],
   "source": [
    "test_preds = my_pipeline.predict(test_data[features])"
   ]
  },
  {
   "cell_type": "code",
   "execution_count": 20,
   "metadata": {},
   "outputs": [
    {
     "data": {
      "text/plain": [
       "array([-6.15766048e-02,  4.73776460e-03, -2.23642588e-03,  7.30867505e-01,\n",
       "        3.67291570e-01,  5.07597148e-01,  7.35512912e-01, -1.00630999e-01,\n",
       "        5.36870956e-02, -2.81515121e-02,  9.75015163e-02, -7.11792707e-03,\n",
       "        9.32644784e-01, -1.44295275e-01,  8.21661234e-01,  9.42576885e-01,\n",
       "       -2.74561644e-02,  7.93380022e-01, -2.08899796e-01,  3.53770345e-01,\n",
       "        3.82038802e-01,  9.52920318e-01,  9.59196746e-01,  1.29529595e-01,\n",
       "        7.26814210e-01, -1.90679848e-01,  1.03031075e+00,  2.01347947e-01,\n",
       "        2.59494543e-01, -1.67577267e-02, -1.81621969e-01, -6.39387965e-02,\n",
       "        5.37336826e-01,  5.36730289e-02,  1.71718150e-01,  1.22478783e-01,\n",
       "        1.94009185e-01,  8.44857335e-01,  2.23964959e-01,  9.75015163e-02,\n",
       "        1.44137830e-01,  9.44772661e-02,  1.88505948e-02,  9.37508166e-01,\n",
       "        8.99956822e-01,  2.23964959e-01,  3.94805014e-01,  5.81977665e-02,\n",
       "        9.82964158e-01,  6.57753468e-01,  5.50950468e-02,  5.47980011e-01,\n",
       "        1.02170932e+00,  3.77177775e-01,  9.29685414e-01, -2.02198029e-02,\n",
       "       -3.85928154e-03,  2.23964959e-01,  7.15310574e-02,  9.47051167e-01,\n",
       "        1.55849755e-02,  3.20627153e-01,  1.94613457e-01,  1.00634646e+00,\n",
       "        1.04932213e+00,  9.70312595e-01,  7.89972782e-01,  3.24013829e-03,\n",
       "        5.85031211e-02,  9.57336009e-01,  8.20666552e-01,  9.87665057e-02,\n",
       "        3.76178980e-01,  2.31762230e-02,  1.03821087e+00,  8.43000710e-02,\n",
       "        9.75015163e-02,  1.02777767e+00,  2.55151391e-02,  8.20666552e-01,\n",
       "        9.74936128e-01, -1.11081004e-02,  9.31378484e-01,  9.75015163e-02,\n",
       "        1.15896434e-01, -1.37992620e-01,  1.19940782e+00,  6.66004598e-01,\n",
       "        8.72737169e-01,  9.91003811e-01,  2.20425189e-01,  9.75015163e-02,\n",
       "        2.15203702e-01,  9.75015163e-02,  8.43120456e-01,  2.23964959e-01,\n",
       "        8.92729402e-01,  2.60108292e-01,  9.39308405e-02,  5.50565124e-03,\n",
       "        7.41152823e-01, -4.08559024e-01,  5.81977665e-02,  1.82287067e-01,\n",
       "        5.62702477e-01, -1.81514025e-03,  1.49503350e-03,  5.81977665e-02,\n",
       "        9.75015163e-02,  3.08433682e-01,  3.86837959e-01,  8.72737169e-01,\n",
       "        9.47051167e-01,  9.85533774e-01,  9.91902351e-01, -1.40764475e-01,\n",
       "        9.56867337e-02,  9.94930148e-01,  1.19706184e-01,  1.00967503e+00,\n",
       "        9.53548193e-01, -4.08804417e-03,  9.87077355e-01, -1.81514025e-03,\n",
       "        5.81977665e-02,  7.20092237e-01,  7.27805495e-03,  1.00870967e+00,\n",
       "        4.80769902e-01,  1.70851409e-01,  5.55396557e-01,  4.46641058e-01,\n",
       "       -1.71357393e-02, -1.37992620e-01,  1.20552182e-02,  1.70851409e-01,\n",
       "        9.11600947e-01, -6.12486601e-02,  4.93246853e-01,  1.31474733e-02,\n",
       "       -2.15041816e-01,  9.76057887e-01,  2.79960036e-03,  2.15406120e-02,\n",
       "        9.38968897e-01, -4.06147659e-01,  9.44772661e-02,  7.27805495e-03,\n",
       "        9.44772661e-02, -1.83941722e-01,  9.08583701e-01,  9.56867337e-02,\n",
       "       -1.21307373e-03,  6.57753468e-01,  3.25157166e-01,  1.70851409e-01,\n",
       "        9.94630814e-01,  4.93246853e-01,  9.38968897e-01,  8.88145447e-01,\n",
       "        8.72737169e-01,  8.92861605e-01,  8.48159432e-01,  9.75015163e-02,\n",
       "        1.76361740e-01,  2.48769224e-01,  9.63403761e-01, -2.68948674e-02,\n",
       "        1.01122963e+00,  6.60861731e-01,  9.75015163e-02,  9.11600947e-01,\n",
       "       -3.03555727e-02,  9.56867337e-02, -1.45638585e-02,  9.62445617e-01,\n",
       "        4.12902534e-01,  3.83453131e-01,  1.02026665e+00,  8.77467275e-01,\n",
       "        2.55151391e-02,  8.66242409e-01,  6.05432570e-01,  5.81977665e-02,\n",
       "        1.00077629e+00,  1.57701105e-01,  1.12896514e+00, -8.61018300e-02,\n",
       "        6.77794218e-04,  1.57701105e-01,  2.77261138e-02,  9.44772661e-02,\n",
       "        1.02826548e+00, -1.38694048e-03,  9.58733082e-01,  5.50565124e-03,\n",
       "        9.88448977e-01,  6.66004598e-01, -1.22634172e-02,  1.94009185e-01,\n",
       "        8.72737169e-01,  1.04418933e+00,  5.01974523e-02,  9.98054624e-01,\n",
       "        1.87892020e-02,  3.03050876e-03,  2.44042665e-01, -3.66002321e-02,\n",
       "        1.04048800e+00,  2.23964959e-01,  5.55396557e-01,  9.75015163e-02,\n",
       "        6.44979775e-02,  4.23739731e-01,  8.12502503e-01,  9.38968897e-01,\n",
       "        8.72737169e-01, -6.61445260e-02,  3.87702703e-01,  9.75015163e-02,\n",
       "        7.65541434e-01,  9.87665057e-02,  9.30611432e-01,  9.87665057e-02,\n",
       "        1.04189742e+00,  5.05964518e-01,  2.39413083e-02,  8.72737169e-01,\n",
       "        6.69134855e-02,  3.10785472e-02,  9.12633538e-02,  1.06643748e+00,\n",
       "       -1.52432323e-02,  5.81977665e-02,  7.79154480e-01, -2.34323740e-03,\n",
       "        9.66767073e-02,  8.07404518e-03,  6.56395614e-01,  1.00019383e+00,\n",
       "        1.12785614e+00,  1.08172464e+00,  2.84785986e-01,  9.75015163e-02,\n",
       "       -6.74986839e-03,  3.75244766e-01,  9.30611432e-01,  6.72007203e-02,\n",
       "        1.00967503e+00,  3.65244746e-02,  3.27360570e-01, -2.34323740e-03,\n",
       "        1.11405349e+00,  1.70851409e-01,  1.33782566e-01,  9.75015163e-02,\n",
       "        5.81977665e-02, -1.81514025e-03,  1.01440406e+00,  9.87665057e-02,\n",
       "       -2.75915265e-02,  9.87665057e-02,  7.68886983e-01,  9.94930148e-01,\n",
       "        3.00196111e-01,  9.75015163e-02,  9.44772661e-02,  9.75015163e-02,\n",
       "        1.94009185e-01,  1.55849755e-02,  1.46263838e-03,  5.81977665e-02,\n",
       "        1.22318864e+00,  1.02179563e+00,  9.56867337e-02,  1.15086079e+00,\n",
       "        2.15406120e-02,  2.55661905e-02, -9.23597813e-03, -5.19878268e-02,\n",
       "        4.93246853e-01,  1.01493812e+00,  8.72737169e-01,  5.90077043e-03,\n",
       "        4.92984235e-01,  1.59382820e-03,  9.75015163e-02,  5.50950468e-02,\n",
       "        9.56867337e-02,  9.75015163e-02,  9.44772661e-02,  7.35512912e-01,\n",
       "        9.56867337e-02,  7.11345971e-02,  1.59382820e-03,  1.82287067e-01,\n",
       "        1.94773763e-01, -1.67577267e-02, -1.15252733e-02,  2.60108292e-01,\n",
       "        5.55396557e-01,  9.29685414e-01,  1.19417429e-01,  1.70851409e-01,\n",
       "        8.72737169e-01,  1.04328048e+00,  3.28242779e-03,  1.00922012e+00,\n",
       "        2.58059204e-02,  5.36087155e-03,  1.94613457e-01,  9.65783834e-01,\n",
       "        9.75015163e-02,  1.61140114e-01,  1.12785614e+00,  6.77109420e-01,\n",
       "        1.41800642e-01,  3.08433682e-01,  7.30867505e-01, -6.89260960e-02,\n",
       "        1.82287067e-01,  4.45463747e-01, -6.12486601e-02,  1.15625560e-02,\n",
       "        7.58439660e-01,  2.39413083e-02,  1.00298405e+00,  1.46263838e-03,\n",
       "       -7.38745928e-03,  2.53202915e-02,  9.95633721e-01,  5.05706847e-01,\n",
       "        9.56867337e-02,  1.07913709e+00,  7.30867505e-01, -1.15252733e-02,\n",
       "        3.20627153e-01,  1.14788204e-01,  1.87892020e-02,  9.56867337e-02,\n",
       "        7.47314095e-03,  5.55396557e-01,  1.25993341e-01,  9.81162429e-01,\n",
       "        1.60975307e-01,  7.30973721e-01, -6.12486601e-02,  3.81335616e-01,\n",
       "       -3.66002321e-02,  1.05493510e+00,  8.79524112e-01,  1.87892020e-02,\n",
       "        7.47314095e-03,  6.34184480e-03,  9.29403722e-01,  3.36245596e-02,\n",
       "        1.04107547e+00,  9.75015163e-02,  5.81977665e-02,  3.08483660e-01,\n",
       "       -3.32581341e-01,  1.24880362e+00,  1.05493510e+00,  7.30867505e-01,\n",
       "        1.00181723e+00,  3.28985214e-01, -1.37992620e-01,  6.60861731e-01,\n",
       "        8.79524112e-01,  4.51448053e-01,  8.57269764e-03,  9.07985449e-01,\n",
       "        9.31378484e-01,  3.13267797e-01,  1.00866961e+00,  8.69871795e-01,\n",
       "        2.16871500e-02,  2.53202915e-02,  1.83930099e-02,  2.60709345e-01,\n",
       "        5.81977665e-02,  3.46849263e-02,  1.94009185e-01,  9.55290914e-01,\n",
       "        1.57909632e-01,  1.00263524e+00,  1.70851409e-01, -7.46370554e-02,\n",
       "        1.49503350e-03, -3.32260728e-02, -3.08945179e-02,  9.68298376e-01,\n",
       "        1.02472639e+00,  1.06090307e-03,  1.03135198e-01,  6.05432570e-01,\n",
       "        6.88251853e-03,  8.33211064e-01,  7.27805495e-03,  2.63721645e-02,\n",
       "        9.90600467e-01,  6.69832826e-02,  1.03031075e+00,  2.54167140e-01,\n",
       "        3.41964245e-01, -1.73510909e-02, -3.34912539e-02, -4.40450191e-01,\n",
       "        8.72737169e-01,  6.84853792e-01,  8.72737169e-01,  4.94155586e-01,\n",
       "        1.70931816e-02,  9.75015163e-02,  1.04580307e+00,  3.17020893e-01,\n",
       "        9.75015163e-02,  9.86287594e-01], dtype=float32)"
      ]
     },
     "execution_count": 20,
     "metadata": {},
     "output_type": "execute_result"
    }
   ],
   "source": [
    "test_preds"
   ]
  },
  {
   "cell_type": "code",
   "execution_count": 21,
   "metadata": {},
   "outputs": [],
   "source": [
    "output = []\n",
    "for pred in test_preds:\n",
    "    if pred < 0.5:\n",
    "        output.append(0)\n",
    "    else:\n",
    "        output.append(1)"
   ]
  },
  {
   "cell_type": "code",
   "execution_count": 22,
   "metadata": {},
   "outputs": [],
   "source": [
    "submissions = pd.DataFrame({'PassengerId': test_data['PassengerId'],\n",
    "                          'Survived': output})"
   ]
  },
  {
   "cell_type": "code",
   "execution_count": 23,
   "metadata": {},
   "outputs": [
    {
     "data": {
      "text/html": [
       "<div>\n",
       "<style scoped>\n",
       "    .dataframe tbody tr th:only-of-type {\n",
       "        vertical-align: middle;\n",
       "    }\n",
       "\n",
       "    .dataframe tbody tr th {\n",
       "        vertical-align: top;\n",
       "    }\n",
       "\n",
       "    .dataframe thead th {\n",
       "        text-align: right;\n",
       "    }\n",
       "</style>\n",
       "<table border=\"1\" class=\"dataframe\">\n",
       "  <thead>\n",
       "    <tr style=\"text-align: right;\">\n",
       "      <th></th>\n",
       "      <th>PassengerId</th>\n",
       "      <th>Survived</th>\n",
       "    </tr>\n",
       "  </thead>\n",
       "  <tbody>\n",
       "    <tr>\n",
       "      <th>0</th>\n",
       "      <td>892</td>\n",
       "      <td>0</td>\n",
       "    </tr>\n",
       "    <tr>\n",
       "      <th>1</th>\n",
       "      <td>893</td>\n",
       "      <td>0</td>\n",
       "    </tr>\n",
       "    <tr>\n",
       "      <th>2</th>\n",
       "      <td>894</td>\n",
       "      <td>0</td>\n",
       "    </tr>\n",
       "    <tr>\n",
       "      <th>3</th>\n",
       "      <td>895</td>\n",
       "      <td>1</td>\n",
       "    </tr>\n",
       "    <tr>\n",
       "      <th>4</th>\n",
       "      <td>896</td>\n",
       "      <td>0</td>\n",
       "    </tr>\n",
       "    <tr>\n",
       "      <th>...</th>\n",
       "      <td>...</td>\n",
       "      <td>...</td>\n",
       "    </tr>\n",
       "    <tr>\n",
       "      <th>413</th>\n",
       "      <td>1305</td>\n",
       "      <td>0</td>\n",
       "    </tr>\n",
       "    <tr>\n",
       "      <th>414</th>\n",
       "      <td>1306</td>\n",
       "      <td>1</td>\n",
       "    </tr>\n",
       "    <tr>\n",
       "      <th>415</th>\n",
       "      <td>1307</td>\n",
       "      <td>0</td>\n",
       "    </tr>\n",
       "    <tr>\n",
       "      <th>416</th>\n",
       "      <td>1308</td>\n",
       "      <td>0</td>\n",
       "    </tr>\n",
       "    <tr>\n",
       "      <th>417</th>\n",
       "      <td>1309</td>\n",
       "      <td>1</td>\n",
       "    </tr>\n",
       "  </tbody>\n",
       "</table>\n",
       "<p>418 rows × 2 columns</p>\n",
       "</div>"
      ],
      "text/plain": [
       "     PassengerId  Survived\n",
       "0            892         0\n",
       "1            893         0\n",
       "2            894         0\n",
       "3            895         1\n",
       "4            896         0\n",
       "..           ...       ...\n",
       "413         1305         0\n",
       "414         1306         1\n",
       "415         1307         0\n",
       "416         1308         0\n",
       "417         1309         1\n",
       "\n",
       "[418 rows x 2 columns]"
      ]
     },
     "execution_count": 23,
     "metadata": {},
     "output_type": "execute_result"
    }
   ],
   "source": [
    "submissions"
   ]
  },
  {
   "cell_type": "code",
   "execution_count": 24,
   "metadata": {},
   "outputs": [],
   "source": [
    "submissions.to_csv('titanic.csv', index=False)"
   ]
  }
 ],
 "metadata": {
  "kernelspec": {
   "display_name": "Python 3",
   "language": "python",
   "name": "python3"
  },
  "language_info": {
   "codemirror_mode": {
    "name": "ipython",
    "version": 3
   },
   "file_extension": ".py",
   "mimetype": "text/x-python",
   "name": "python",
   "nbconvert_exporter": "python",
   "pygments_lexer": "ipython3",
   "version": "3.7.6"
  }
 },
 "nbformat": 4,
 "nbformat_minor": 4
}
